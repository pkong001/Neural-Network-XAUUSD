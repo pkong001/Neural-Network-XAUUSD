{
 "cells": [
  {
   "cell_type": "code",
   "execution_count": 1,
   "metadata": {},
   "outputs": [],
   "source": [
    "import numpy as np\n",
    "import matplotlib.pyplot as plt\n",
    "import pandas as pd\n",
    "import pandas_ta as ta"
   ]
  },
  {
   "cell_type": "code",
   "execution_count": 2,
   "metadata": {},
   "outputs": [
    {
     "name": "stdout",
     "output_type": "stream",
     "text": [
      "initialize:  True\n",
      "logged in:  True\n",
      "\n",
      "\n",
      "2023-04-19 14:04:56.526211 | Login:  114123121 | Balance:  515.32 | Equity:  512.72\n"
     ]
    }
   ],
   "source": [
    "import MetaTrader5 as mt5\n",
    "from account_credentials import LOGIN,PASSWORD,SERVER\n",
    "from datetime import datetime\n",
    "\n",
    "\n",
    "is_initialized = mt5.initialize()\n",
    "print('initialize: ', is_initialized)\n",
    "\n",
    "is_logged_in = mt5.login(LOGIN, PASSWORD, SERVER)\n",
    "print('logged in: ', is_logged_in)\n",
    "print('\\n')\n",
    "account_info = mt5.account_info()\n",
    "print(datetime.now(),\n",
    "    '| Login: ', account_info.login,\n",
    "    '| Balance: ', account_info.balance,\n",
    "    '| Equity: ' , account_info.equity)"
   ]
  },
  {
   "cell_type": "code",
   "execution_count": 3,
   "metadata": {},
   "outputs": [
    {
     "name": "stdout",
     "output_type": "stream",
     "text": [
      "                         open      high       low     close  volume\n",
      "date                                                               \n",
      "2021-08-09 16:00:00  1728.414  1728.531  1723.846  1726.143    5785\n",
      "2021-08-09 17:00:00  1726.175  1729.899  1724.650  1729.899    4352\n",
      "2021-08-09 18:00:00  1729.868  1731.698  1728.056  1728.323    3295\n",
      "2021-08-09 19:00:00  1728.357  1730.655  1728.351  1728.749    3228\n",
      "2021-08-09 20:00:00  1728.718  1730.628  1728.492  1729.573    1752\n"
     ]
    }
   ],
   "source": [
    "symbol = 'XAUUSD'\n",
    "number_of_date= 10000\n",
    "timeframe = mt5.TIMEFRAME_H1\n",
    "from_date = datetime.now()\n",
    "\n",
    "df = pd.DataFrame(mt5.copy_rates_from(symbol,timeframe,from_date,number_of_date))\n",
    "df[\"time\"] = pd.to_datetime(df[\"time\"], unit=\"s\")\n",
    "df = df.rename(columns={'time': 'date','tick_volume':'volume'})\n",
    "df = df[['date','open','high','low','close','volume']]\n",
    "df = df.set_index(\"date\")\n",
    "print(df.head()) # just to make sure that sorted from old to new"
   ]
  },
  {
   "attachments": {},
   "cell_type": "markdown",
   "metadata": {},
   "source": [
    "##### Adding Features"
   ]
  },
  {
   "cell_type": "code",
   "execution_count": 4,
   "metadata": {},
   "outputs": [
    {
     "data": {
      "text/html": [
       "<div>\n",
       "<style scoped>\n",
       "    .dataframe tbody tr th:only-of-type {\n",
       "        vertical-align: middle;\n",
       "    }\n",
       "\n",
       "    .dataframe tbody tr th {\n",
       "        vertical-align: top;\n",
       "    }\n",
       "\n",
       "    .dataframe thead th {\n",
       "        text-align: right;\n",
       "    }\n",
       "</style>\n",
       "<table border=\"1\" class=\"dataframe\">\n",
       "  <thead>\n",
       "    <tr style=\"text-align: right;\">\n",
       "      <th></th>\n",
       "      <th>open</th>\n",
       "      <th>high</th>\n",
       "      <th>low</th>\n",
       "      <th>close</th>\n",
       "      <th>RSI</th>\n",
       "      <th>EMAF</th>\n",
       "      <th>EMAM</th>\n",
       "      <th>EMAS</th>\n",
       "      <th>Target-Next-Close</th>\n",
       "    </tr>\n",
       "  </thead>\n",
       "  <tbody>\n",
       "    <tr>\n",
       "      <th>0</th>\n",
       "      <td>1791.215</td>\n",
       "      <td>1792.283</td>\n",
       "      <td>1789.699</td>\n",
       "      <td>1790.230</td>\n",
       "      <td>58.957674</td>\n",
       "      <td>1787.361089</td>\n",
       "      <td>1771.268623</td>\n",
       "      <td>1759.171827</td>\n",
       "      <td>1789.424</td>\n",
       "    </tr>\n",
       "    <tr>\n",
       "      <th>1</th>\n",
       "      <td>1790.183</td>\n",
       "      <td>1790.404</td>\n",
       "      <td>1788.731</td>\n",
       "      <td>1789.424</td>\n",
       "      <td>56.769136</td>\n",
       "      <td>1787.557556</td>\n",
       "      <td>1771.628135</td>\n",
       "      <td>1759.572518</td>\n",
       "      <td>1790.626</td>\n",
       "    </tr>\n",
       "    <tr>\n",
       "      <th>2</th>\n",
       "      <td>1789.378</td>\n",
       "      <td>1790.822</td>\n",
       "      <td>1787.889</td>\n",
       "      <td>1790.626</td>\n",
       "      <td>59.189698</td>\n",
       "      <td>1787.849789</td>\n",
       "      <td>1772.004331</td>\n",
       "      <td>1759.983822</td>\n",
       "      <td>1791.691</td>\n",
       "    </tr>\n",
       "    <tr>\n",
       "      <th>3</th>\n",
       "      <td>1790.673</td>\n",
       "      <td>1793.261</td>\n",
       "      <td>1790.167</td>\n",
       "      <td>1791.691</td>\n",
       "      <td>61.249420</td>\n",
       "      <td>1788.215619</td>\n",
       "      <td>1772.394166</td>\n",
       "      <td>1760.403785</td>\n",
       "      <td>1790.171</td>\n",
       "    </tr>\n",
       "    <tr>\n",
       "      <th>4</th>\n",
       "      <td>1791.694</td>\n",
       "      <td>1793.741</td>\n",
       "      <td>1790.049</td>\n",
       "      <td>1790.171</td>\n",
       "      <td>56.860977</td>\n",
       "      <td>1788.401845</td>\n",
       "      <td>1772.746182</td>\n",
       "      <td>1760.798052</td>\n",
       "      <td>1787.796</td>\n",
       "    </tr>\n",
       "    <tr>\n",
       "      <th>...</th>\n",
       "      <td>...</td>\n",
       "      <td>...</td>\n",
       "      <td>...</td>\n",
       "      <td>...</td>\n",
       "      <td>...</td>\n",
       "      <td>...</td>\n",
       "      <td>...</td>\n",
       "      <td>...</td>\n",
       "      <td>...</td>\n",
       "    </tr>\n",
       "    <tr>\n",
       "      <th>9845</th>\n",
       "      <td>2003.460</td>\n",
       "      <td>2006.888</td>\n",
       "      <td>2001.936</td>\n",
       "      <td>2004.189</td>\n",
       "      <td>50.637146</td>\n",
       "      <td>2003.999043</td>\n",
       "      <td>2007.940411</td>\n",
       "      <td>2007.549741</td>\n",
       "      <td>2003.397</td>\n",
       "    </tr>\n",
       "    <tr>\n",
       "      <th>9846</th>\n",
       "      <td>2004.172</td>\n",
       "      <td>2004.769</td>\n",
       "      <td>2002.175</td>\n",
       "      <td>2003.397</td>\n",
       "      <td>49.238163</td>\n",
       "      <td>2003.941706</td>\n",
       "      <td>2007.850442</td>\n",
       "      <td>2007.494738</td>\n",
       "      <td>2003.909</td>\n",
       "    </tr>\n",
       "    <tr>\n",
       "      <th>9847</th>\n",
       "      <td>2003.431</td>\n",
       "      <td>2004.442</td>\n",
       "      <td>2002.587</td>\n",
       "      <td>2003.909</td>\n",
       "      <td>50.191302</td>\n",
       "      <td>2003.938591</td>\n",
       "      <td>2007.772394</td>\n",
       "      <td>2007.447244</td>\n",
       "      <td>2000.439</td>\n",
       "    </tr>\n",
       "    <tr>\n",
       "      <th>9848</th>\n",
       "      <td>2003.928</td>\n",
       "      <td>2004.279</td>\n",
       "      <td>1999.470</td>\n",
       "      <td>2000.439</td>\n",
       "      <td>44.169041</td>\n",
       "      <td>2003.605296</td>\n",
       "      <td>2007.627178</td>\n",
       "      <td>2007.354420</td>\n",
       "      <td>1991.049</td>\n",
       "    </tr>\n",
       "    <tr>\n",
       "      <th>9849</th>\n",
       "      <td>2000.474</td>\n",
       "      <td>2001.288</td>\n",
       "      <td>1986.867</td>\n",
       "      <td>1991.049</td>\n",
       "      <td>32.769249</td>\n",
       "      <td>2002.409459</td>\n",
       "      <td>2007.298897</td>\n",
       "      <td>2007.138454</td>\n",
       "      <td>1992.144</td>\n",
       "    </tr>\n",
       "  </tbody>\n",
       "</table>\n",
       "<p>9850 rows × 9 columns</p>\n",
       "</div>"
      ],
      "text/plain": [
       "          open      high       low     close        RSI         EMAF   \n",
       "0     1791.215  1792.283  1789.699  1790.230  58.957674  1787.361089  \\\n",
       "1     1790.183  1790.404  1788.731  1789.424  56.769136  1787.557556   \n",
       "2     1789.378  1790.822  1787.889  1790.626  59.189698  1787.849789   \n",
       "3     1790.673  1793.261  1790.167  1791.691  61.249420  1788.215619   \n",
       "4     1791.694  1793.741  1790.049  1790.171  56.860977  1788.401845   \n",
       "...        ...       ...       ...       ...        ...          ...   \n",
       "9845  2003.460  2006.888  2001.936  2004.189  50.637146  2003.999043   \n",
       "9846  2004.172  2004.769  2002.175  2003.397  49.238163  2003.941706   \n",
       "9847  2003.431  2004.442  2002.587  2003.909  50.191302  2003.938591   \n",
       "9848  2003.928  2004.279  1999.470  2000.439  44.169041  2003.605296   \n",
       "9849  2000.474  2001.288  1986.867  1991.049  32.769249  2002.409459   \n",
       "\n",
       "             EMAM         EMAS  Target-Next-Close  \n",
       "0     1771.268623  1759.171827           1789.424  \n",
       "1     1771.628135  1759.572518           1790.626  \n",
       "2     1772.004331  1759.983822           1791.691  \n",
       "3     1772.394166  1760.403785           1790.171  \n",
       "4     1772.746182  1760.798052           1787.796  \n",
       "...           ...          ...                ...  \n",
       "9845  2007.940411  2007.549741           2003.397  \n",
       "9846  2007.850442  2007.494738           2003.909  \n",
       "9847  2007.772394  2007.447244           2000.439  \n",
       "9848  2007.627178  2007.354420           1991.049  \n",
       "9849  2007.298897  2007.138454           1992.144  \n",
       "\n",
       "[9850 rows x 9 columns]"
      ]
     },
     "execution_count": 4,
     "metadata": {},
     "output_type": "execute_result"
    }
   ],
   "source": [
    "df['RSI'] = ta.rsi(df.close, length = 15)\n",
    "df['EMAF'] = ta.ema(df.close, length = 20)\n",
    "df['EMAM'] = ta.ema(df.close, length = 100)\n",
    "df['EMAS'] = ta.ema(df.close, length = 150)\n",
    "# df['Target'] = df['close'] - df.open\n",
    "# df['Target'] = df['Target'].shift(-1)\n",
    "\n",
    "# df['TargetClass'] = [1 if df.Target[i] > 0 else 0 for i in range(len(df))]\n",
    "df['Target-Next-Close'] = df['close'].shift(-1)\n",
    "\n",
    "\n",
    "\n",
    "df.dropna(inplace = True)\n",
    "df.reset_index(inplace = True)\n",
    "df.drop(['date','volume'], axis=1 , inplace=True)\n",
    "df"
   ]
  },
  {
   "cell_type": "code",
   "execution_count": null,
   "metadata": {},
   "outputs": [],
   "source": [
    "# from sklearn.preprocessing import MinMaxScaler\n",
    "# sc = MinMaxScaler(feature_range=(0,1))\n",
    "# data_set_scaled = sc.fit_transform(df)\n",
    "# data_set_scaled"
   ]
  },
  {
   "cell_type": "code",
   "execution_count": 5,
   "metadata": {},
   "outputs": [
    {
     "data": {
      "text/plain": [
       "array([-0.32696095, -0.31322853, -0.30106128, ...,  2.08381062,\n",
       "        1.9765332 ,  1.98904319])"
      ]
     },
     "execution_count": 5,
     "metadata": {},
     "output_type": "execute_result"
    }
   ],
   "source": [
    "from sklearn.preprocessing import StandardScaler\n",
    "sc = StandardScaler()\n",
    "data_set_scaled = sc.fit_transform(df)\n",
    "data_set_scaled[:,8]\n"
   ]
  },
  {
   "cell_type": "code",
   "execution_count": 6,
   "metadata": {},
   "outputs": [
    {
     "name": "stdout",
     "output_type": "stream",
     "text": [
      "9850\n"
     ]
    }
   ],
   "source": [
    "X = []\n",
    "backcandles = 30\n",
    "print(data_set_scaled.shape[0])\n",
    "for j in range(8): # grabe open\thigh\tlow\tclose\tRSI\tEMAF\tEMAM\tEMAS\n",
    "    X.append([])\n",
    "    for i in range(backcandles, data_set_scaled.shape[0]):\n",
    "        X[j].append(data_set_scaled[i-backcandles:i, j])"
   ]
  },
  {
   "cell_type": "code",
   "execution_count": 7,
   "metadata": {},
   "outputs": [
    {
     "data": {
      "text/plain": [
       "(9820, 30, 8)"
      ]
     },
     "execution_count": 7,
     "metadata": {},
     "output_type": "execute_result"
    }
   ],
   "source": [
    "X=np.moveaxis(X, [0], [2])\n",
    "X.shape"
   ]
  },
  {
   "cell_type": "code",
   "execution_count": 11,
   "metadata": {},
   "outputs": [
    {
     "name": "stdout",
     "output_type": "stream",
     "text": [
      "(9820, 30, 8)\n",
      "(9820,)\n",
      "[-0.35572821 -0.33316454 -0.38713456 -0.42740644 -0.39827359 -0.40427153\n",
      " -0.4245617  -0.43340437 -0.42266521 -0.43664897]\n"
     ]
    }
   ],
   "source": [
    "X = np.array(X)\n",
    "y = np.array(data_set_scaled[backcandles:,-1])\n",
    "# y = np.reshape(y,(len(y),1))\n",
    "print(X.shape) # 3D X has 8 colume and each colume contain xx backcandles (row, backcandle, column)\n",
    "print(y.shape) # 2D contain 1 value (it's 1D array that reshape into 2D array)\n",
    "print(y[0:10])"
   ]
  },
  {
   "cell_type": "code",
   "execution_count": 19,
   "metadata": {},
   "outputs": [
    {
     "name": "stdout",
     "output_type": "stream",
     "text": [
      "(7856, 30, 8)\n",
      "(7856,)\n",
      "(1964, 30, 8)\n",
      "(1964,)\n",
      "[-0.33574245 -0.3079471  -0.30247692 -0.34197617 -0.35820437 -0.36002776\n",
      " -0.37428442 -0.33112698 -0.33839776]\n"
     ]
    }
   ],
   "source": [
    "proportion = int(len(X)*0.8)\n",
    "X_train, X_test = X[:proportion],X[proportion:]\n",
    "y_train, y_test = y[:proportion],y[proportion:]\n",
    "print(X_train.shape)\n",
    "print(y_train.shape)\n",
    "print(X_test.shape)\n",
    "print(y_test.shape)\n",
    "print(X[1,1:10,1])"
   ]
  },
  {
   "cell_type": "code",
   "execution_count": 20,
   "metadata": {},
   "outputs": [
    {
     "name": "stdout",
     "output_type": "stream",
     "text": [
      "Epoch 1/30\n",
      "524/524 [==============================] - 5s 8ms/step - loss: 0.0094 - val_loss: 0.0117\n",
      "Epoch 2/30\n",
      "524/524 [==============================] - 4s 8ms/step - loss: 0.0041 - val_loss: 0.0055\n",
      "Epoch 3/30\n",
      "524/524 [==============================] - 4s 8ms/step - loss: 0.0039 - val_loss: 0.0050\n",
      "Epoch 4/30\n",
      "524/524 [==============================] - 4s 8ms/step - loss: 0.0037 - val_loss: 0.0050\n",
      "Epoch 5/30\n",
      "524/524 [==============================] - 4s 8ms/step - loss: 0.0037 - val_loss: 0.0042\n",
      "Epoch 6/30\n",
      "524/524 [==============================] - 4s 8ms/step - loss: 0.0036 - val_loss: 0.0038\n",
      "Epoch 7/30\n",
      "524/524 [==============================] - 4s 8ms/step - loss: 0.0034 - val_loss: 0.0042\n",
      "Epoch 8/30\n",
      "524/524 [==============================] - 4s 8ms/step - loss: 0.0035 - val_loss: 0.0037\n",
      "Epoch 9/30\n",
      "524/524 [==============================] - 4s 8ms/step - loss: 0.0033 - val_loss: 0.0046\n",
      "Epoch 10/30\n",
      "524/524 [==============================] - 4s 9ms/step - loss: 0.0034 - val_loss: 0.0038\n",
      "Epoch 11/30\n",
      "524/524 [==============================] - 4s 8ms/step - loss: 0.0035 - val_loss: 0.0064\n",
      "Epoch 12/30\n",
      "524/524 [==============================] - 4s 8ms/step - loss: 0.0034 - val_loss: 0.0036\n",
      "Epoch 13/30\n",
      "524/524 [==============================] - 4s 8ms/step - loss: 0.0033 - val_loss: 0.0047\n",
      "Epoch 14/30\n",
      "524/524 [==============================] - 4s 8ms/step - loss: 0.0034 - val_loss: 0.0039\n",
      "Epoch 15/30\n",
      "524/524 [==============================] - 4s 8ms/step - loss: 0.0033 - val_loss: 0.0047\n",
      "Epoch 16/30\n",
      "524/524 [==============================] - 4s 8ms/step - loss: 0.0033 - val_loss: 0.0038\n",
      "Epoch 17/30\n",
      "524/524 [==============================] - 4s 8ms/step - loss: 0.0032 - val_loss: 0.0039\n",
      "Epoch 18/30\n",
      "524/524 [==============================] - 4s 8ms/step - loss: 0.0033 - val_loss: 0.0039\n",
      "Epoch 19/30\n",
      "524/524 [==============================] - 4s 8ms/step - loss: 0.0032 - val_loss: 0.0040\n",
      "Epoch 20/30\n",
      "524/524 [==============================] - 4s 8ms/step - loss: 0.0032 - val_loss: 0.0038\n",
      "Epoch 21/30\n",
      "524/524 [==============================] - 5s 9ms/step - loss: 0.0033 - val_loss: 0.0038\n",
      "Epoch 22/30\n",
      "524/524 [==============================] - 4s 8ms/step - loss: 0.0033 - val_loss: 0.0039\n",
      "Epoch 23/30\n",
      "524/524 [==============================] - 4s 8ms/step - loss: 0.0032 - val_loss: 0.0054\n",
      "Epoch 24/30\n",
      "524/524 [==============================] - 4s 8ms/step - loss: 0.0033 - val_loss: 0.0038\n",
      "Epoch 25/30\n",
      "524/524 [==============================] - 4s 8ms/step - loss: 0.0032 - val_loss: 0.0039\n",
      "Epoch 26/30\n",
      "524/524 [==============================] - 4s 8ms/step - loss: 0.0032 - val_loss: 0.0040\n",
      "Epoch 27/30\n",
      "524/524 [==============================] - 4s 8ms/step - loss: 0.0031 - val_loss: 0.0038\n",
      "Epoch 28/30\n",
      "524/524 [==============================] - 4s 8ms/step - loss: 0.0033 - val_loss: 0.0038\n",
      "Epoch 29/30\n",
      "524/524 [==============================] - 4s 8ms/step - loss: 0.0033 - val_loss: 0.0042\n",
      "Epoch 30/30\n",
      "524/524 [==============================] - 4s 8ms/step - loss: 0.0031 - val_loss: 0.0042\n"
     ]
    },
    {
     "data": {
      "text/plain": [
       "<keras.callbacks.History at 0x278d04580d0>"
      ]
     },
     "execution_count": 20,
     "metadata": {},
     "output_type": "execute_result"
    }
   ],
   "source": [
    "from keras.models import Sequential, Model\n",
    "from keras.layers import LSTM, Dropout, Dense, TimeDistributed, Input, Activation\n",
    "from keras import optimizers\n",
    "from keras.callbacks import History\n",
    "import tensorflow as tf\n",
    "\n",
    "lstm_input = Input(shape=(backcandles, 8), name = 'lstm_input')\n",
    "inputs = LSTM(150, name='first_layer')(lstm_input)\n",
    "inputs = Dense(1, name='dense_layer')(inputs)\n",
    "output = Activation('linear', name='output')(inputs)\n",
    "model = Model(inputs = lstm_input, outputs = output)\n",
    "adam = optimizers.Adam()\n",
    "model.compile(optimizer=adam,loss='mse')\n",
    "model.fit(x=X_train, y = y_train, batch_size=15, epochs=30, shuffle=True,validation_data=(X_test, y_test))"
   ]
  },
  {
   "cell_type": "code",
   "execution_count": 21,
   "metadata": {},
   "outputs": [
    {
     "name": "stdout",
     "output_type": "stream",
     "text": [
      "62/62 [==============================] - 0s 4ms/step\n"
     ]
    }
   ],
   "source": [
    "y_hat = model.predict(X_test)"
   ]
  },
  {
   "cell_type": "code",
   "execution_count": 22,
   "metadata": {},
   "outputs": [
    {
     "data": {
      "image/png": "[encoded data removed]",
      "text/plain": [
       "<Figure size 1600x800 with 1 Axes>"
      ]
     },
     "metadata": {},
     "output_type": "display_data"
    }
   ],
   "source": [
    "plt.figure(figsize=(16,8))\n",
    "plt.plot(y_test, color = 'blue', label = 'Test')\n",
    "plt.plot(y_hat, color = 'red', label = 'Prediction')\n",
    "plt.legend()\n",
    "plt.show()"
   ]
  },
  {
   "cell_type": "code",
   "execution_count": null,
   "metadata": {},
   "outputs": [],
   "source": [
    "# Define the input layer with shape (backcandles, 8)\n",
    "lstm_input = Input(shape=(backcandles, 8), name='lstm_input')\n",
    "\n",
    "# Add a LSTM layer with 150 units\n",
    "lstm_layer = LSTM(units=150, name='lstm_layer')(lstm_input)\n",
    "\n",
    "# Add a dense layer with a single output neuron\n",
    "dense_layer = Dense(units=1, name='dense_layer')(lstm_layer)\n",
    "\n",
    "# Add an activation layer with a linear activation function\n",
    "output = Activation('linear', name='output')(dense_layer)\n",
    "\n",
    "# Build the model\n",
    "model = Model(inputs=lstm_input, outputs=output)\n",
    "\n",
    "# Compile the model with the Adam optimizer and mean squared error loss function\n",
    "model.compile(optimizer='adam', loss='mse')\n",
    "\n",
    "# Train the model on the training data with a batch size of 15 and for 30 epochs\n",
    "model.fit(x=X_train, y=y_train, batch_size=15, epochs=30, shuffle=True, validation_data=(X_test, y_test))\n"
   ]
  },
  {
   "cell_type": "code",
   "execution_count": null,
   "metadata": {},
   "outputs": [],
   "source": [
    "# Evaluate the model on the test data\n",
    "loss = model.evaluate(X_test, y_test)\n",
    "\n",
    "# Print the mean squared error loss\n",
    "print('Test loss:', loss)\n"
   ]
  },
  {
   "cell_type": "code",
   "execution_count": null,
   "metadata": {},
   "outputs": [],
   "source": [
    "# Generate predictions on the test data\n",
    "y_pred = model.predict(X_test)\n",
    "\n",
    "# Compute the accuracy\n",
    "accuracy = (y_pred == y_test).mean()\n",
    "\n",
    "# Compute the precision, recall, and F1-score\n",
    "precision = precision_score(y_test, y_pred)\n",
    "recall = recall_score(y_test, y_pred)\n",
    "f1_score = f1_score(y_test, y_pred)\n",
    "\n",
    "# Print the performance metrics\n",
    "print('Accuracy:', accuracy)\n",
    "print('Precision:', precision)\n",
    "print('Recall:', recall)\n",
    "print('F1-score:', f1_score)\n"
   ]
  }
 ],
 "metadata": {
  "kernelspec": {
   "display_name": "vnn",
   "language": "python",
   "name": "python3"
  },
  "language_info": {
   "codemirror_mode": {
    "name": "ipython",
    "version": 3
   },
   "file_extension": ".py",
   "mimetype": "text/x-python",
   "name": "python",
   "nbconvert_exporter": "python",
   "pygments_lexer": "ipython3",
   "version": "3.9.13"
  },
  "orig_nbformat": 4
 },
 "nbformat": 4,
 "nbformat_minor": 2
}
