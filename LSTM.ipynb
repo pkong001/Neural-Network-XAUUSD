{
 "cells": [
  {
   "cell_type": "code",
   "execution_count": 17,
   "metadata": {},
   "outputs": [],
   "source": [
    "import numpy as np\n",
    "import matplotlib.pyplot as plt\n",
    "import pandas as pd\n",
    "import pandas_ta as ta"
   ]
  },
  {
   "cell_type": "code",
   "execution_count": 18,
   "metadata": {},
   "outputs": [
    {
     "name": "stdout",
     "output_type": "stream",
     "text": [
      "initialize:  True\n",
      "logged in:  True\n",
      "\n",
      "\n",
      "2023-04-20 10:12:18.120659 | Login:  114123121 | Balance:  522.59 | Equity:  523.13\n"
     ]
    }
   ],
   "source": [
    "import MetaTrader5 as mt5\n",
    "from account_credentials import LOGIN,PASSWORD,SERVER\n",
    "from datetime import datetime\n",
    "\n",
    "\n",
    "is_initialized = mt5.initialize()\n",
    "print('initialize: ', is_initialized)\n",
    "\n",
    "is_logged_in = mt5.login(LOGIN, PASSWORD, SERVER)\n",
    "print('logged in: ', is_logged_in)\n",
    "print('\\n')\n",
    "account_info = mt5.account_info()\n",
    "print(datetime.now(),\n",
    "    '| Login: ', account_info.login,\n",
    "    '| Balance: ', account_info.balance,\n",
    "    '| Equity: ' , account_info.equity)\n",
    "\n",
    "symbol = 'XAUUSD'\n",
    "number_of_date= 10000\n",
    "timeframe = mt5.TIMEFRAME_H1\n",
    "from_date = datetime.now()\n",
    "\n",
    "df = pd.DataFrame(mt5.copy_rates_from(symbol,timeframe,from_date,number_of_date))\n",
    "df[\"time\"] = pd.to_datetime(df[\"time\"], unit=\"s\")\n",
    "df = df.rename(columns={'time': 'date','tick_volume':'volume'})\n",
    "df = df[['date','open','high','low','close','volume']]\n",
    "df = df.set_index(\"date\")\n",
    "print(df.head()) # just to make sure that sorted from old to new"
   ]
  },
  {
   "cell_type": "code",
   "execution_count": 19,
   "metadata": {},
   "outputs": [
    {
     "name": "stdout",
     "output_type": "stream",
     "text": [
      "                         open      high       low     close  volume\n",
      "date                                                               \n",
      "2021-08-10 12:00:00  1732.395  1733.745  1726.227  1727.672    6474\n",
      "2021-08-10 13:00:00  1727.645  1729.903  1721.020  1721.931   10099\n",
      "2021-08-10 14:00:00  1721.963  1727.258  1717.741  1726.512    9855\n",
      "2021-08-10 15:00:00  1726.482  1732.713  1725.512  1731.500    5555\n",
      "2021-08-10 16:00:00  1731.468  1732.430  1729.202  1729.405    3733\n"
     ]
    }
   ],
   "source": []
  },
  {
   "attachments": {},
   "cell_type": "markdown",
   "metadata": {},
   "source": [
    "##### Adding Features"
   ]
  },
  {
   "cell_type": "code",
   "execution_count": 20,
   "metadata": {},
   "outputs": [
    {
     "data": {
      "text/html": [
       "<div>\n",
       "<style scoped>\n",
       "    .dataframe tbody tr th:only-of-type {\n",
       "        vertical-align: middle;\n",
       "    }\n",
       "\n",
       "    .dataframe tbody tr th {\n",
       "        vertical-align: top;\n",
       "    }\n",
       "\n",
       "    .dataframe thead th {\n",
       "        text-align: right;\n",
       "    }\n",
       "</style>\n",
       "<table border=\"1\" class=\"dataframe\">\n",
       "  <thead>\n",
       "    <tr style=\"text-align: right;\">\n",
       "      <th></th>\n",
       "      <th>open</th>\n",
       "      <th>high</th>\n",
       "      <th>low</th>\n",
       "      <th>close</th>\n",
       "      <th>RSI</th>\n",
       "      <th>EMAF</th>\n",
       "      <th>EMAM</th>\n",
       "      <th>EMAS</th>\n",
       "      <th>Target-Next-Close</th>\n",
       "    </tr>\n",
       "  </thead>\n",
       "  <tbody>\n",
       "    <tr>\n",
       "      <th>0</th>\n",
       "      <td>1788.288</td>\n",
       "      <td>1788.889</td>\n",
       "      <td>1787.130</td>\n",
       "      <td>1787.419</td>\n",
       "      <td>52.167617</td>\n",
       "      <td>1786.470292</td>\n",
       "      <td>1775.545823</td>\n",
       "      <td>1766.097253</td>\n",
       "      <td>1784.401</td>\n",
       "    </tr>\n",
       "    <tr>\n",
       "      <th>1</th>\n",
       "      <td>1787.417</td>\n",
       "      <td>1787.455</td>\n",
       "      <td>1784.101</td>\n",
       "      <td>1784.401</td>\n",
       "      <td>46.055288</td>\n",
       "      <td>1786.273216</td>\n",
       "      <td>1775.721173</td>\n",
       "      <td>1766.339687</td>\n",
       "      <td>1781.882</td>\n",
       "    </tr>\n",
       "    <tr>\n",
       "      <th>2</th>\n",
       "      <td>1784.447</td>\n",
       "      <td>1785.409</td>\n",
       "      <td>1781.516</td>\n",
       "      <td>1781.882</td>\n",
       "      <td>41.687298</td>\n",
       "      <td>1785.855005</td>\n",
       "      <td>1775.843170</td>\n",
       "      <td>1766.545546</td>\n",
       "      <td>1780.905</td>\n",
       "    </tr>\n",
       "    <tr>\n",
       "      <th>3</th>\n",
       "      <td>1781.871</td>\n",
       "      <td>1782.370</td>\n",
       "      <td>1780.493</td>\n",
       "      <td>1780.905</td>\n",
       "      <td>40.106605</td>\n",
       "      <td>1785.383576</td>\n",
       "      <td>1775.943404</td>\n",
       "      <td>1766.735737</td>\n",
       "      <td>1779.916</td>\n",
       "    </tr>\n",
       "    <tr>\n",
       "      <th>4</th>\n",
       "      <td>1780.909</td>\n",
       "      <td>1780.909</td>\n",
       "      <td>1774.199</td>\n",
       "      <td>1779.916</td>\n",
       "      <td>38.522362</td>\n",
       "      <td>1784.862855</td>\n",
       "      <td>1776.022069</td>\n",
       "      <td>1766.910310</td>\n",
       "      <td>1777.501</td>\n",
       "    </tr>\n",
       "    <tr>\n",
       "      <th>...</th>\n",
       "      <td>...</td>\n",
       "      <td>...</td>\n",
       "      <td>...</td>\n",
       "      <td>...</td>\n",
       "      <td>...</td>\n",
       "      <td>...</td>\n",
       "      <td>...</td>\n",
       "      <td>...</td>\n",
       "      <td>...</td>\n",
       "    </tr>\n",
       "    <tr>\n",
       "      <th>9845</th>\n",
       "      <td>1994.615</td>\n",
       "      <td>1995.699</td>\n",
       "      <td>1994.096</td>\n",
       "      <td>1994.506</td>\n",
       "      <td>50.424397</td>\n",
       "      <td>1992.910375</td>\n",
       "      <td>2002.323161</td>\n",
       "      <td>2003.654718</td>\n",
       "      <td>1993.653</td>\n",
       "    </tr>\n",
       "    <tr>\n",
       "      <th>9846</th>\n",
       "      <td>1994.480</td>\n",
       "      <td>1994.707</td>\n",
       "      <td>1993.150</td>\n",
       "      <td>1993.653</td>\n",
       "      <td>49.422603</td>\n",
       "      <td>1992.981101</td>\n",
       "      <td>2002.151475</td>\n",
       "      <td>2003.522244</td>\n",
       "      <td>1995.644</td>\n",
       "    </tr>\n",
       "    <tr>\n",
       "      <th>9847</th>\n",
       "      <td>1993.688</td>\n",
       "      <td>1996.682</td>\n",
       "      <td>1993.505</td>\n",
       "      <td>1995.644</td>\n",
       "      <td>51.816584</td>\n",
       "      <td>1993.234711</td>\n",
       "      <td>2002.022614</td>\n",
       "      <td>2003.417897</td>\n",
       "      <td>1995.715</td>\n",
       "    </tr>\n",
       "    <tr>\n",
       "      <th>9848</th>\n",
       "      <td>1995.623</td>\n",
       "      <td>1998.580</td>\n",
       "      <td>1992.198</td>\n",
       "      <td>1995.715</td>\n",
       "      <td>51.903565</td>\n",
       "      <td>1993.470929</td>\n",
       "      <td>2001.897711</td>\n",
       "      <td>2003.315872</td>\n",
       "      <td>1991.769</td>\n",
       "    </tr>\n",
       "    <tr>\n",
       "      <th>9849</th>\n",
       "      <td>1995.722</td>\n",
       "      <td>1996.872</td>\n",
       "      <td>1991.506</td>\n",
       "      <td>1991.769</td>\n",
       "      <td>46.865696</td>\n",
       "      <td>1993.308840</td>\n",
       "      <td>2001.697142</td>\n",
       "      <td>2003.162933</td>\n",
       "      <td>1991.449</td>\n",
       "    </tr>\n",
       "  </tbody>\n",
       "</table>\n",
       "<p>9850 rows × 9 columns</p>\n",
       "</div>"
      ],
      "text/plain": [
       "          open      high       low     close        RSI         EMAF   \n",
       "0     1788.288  1788.889  1787.130  1787.419  52.167617  1786.470292  \\\n",
       "1     1787.417  1787.455  1784.101  1784.401  46.055288  1786.273216   \n",
       "2     1784.447  1785.409  1781.516  1781.882  41.687298  1785.855005   \n",
       "3     1781.871  1782.370  1780.493  1780.905  40.106605  1785.383576   \n",
       "4     1780.909  1780.909  1774.199  1779.916  38.522362  1784.862855   \n",
       "...        ...       ...       ...       ...        ...          ...   \n",
       "9845  1994.615  1995.699  1994.096  1994.506  50.424397  1992.910375   \n",
       "9846  1994.480  1994.707  1993.150  1993.653  49.422603  1992.981101   \n",
       "9847  1993.688  1996.682  1993.505  1995.644  51.816584  1993.234711   \n",
       "9848  1995.623  1998.580  1992.198  1995.715  51.903565  1993.470929   \n",
       "9849  1995.722  1996.872  1991.506  1991.769  46.865696  1993.308840   \n",
       "\n",
       "             EMAM         EMAS  Target-Next-Close  \n",
       "0     1775.545823  1766.097253           1784.401  \n",
       "1     1775.721173  1766.339687           1781.882  \n",
       "2     1775.843170  1766.545546           1780.905  \n",
       "3     1775.943404  1766.735737           1779.916  \n",
       "4     1776.022069  1766.910310           1777.501  \n",
       "...           ...          ...                ...  \n",
       "9845  2002.323161  2003.654718           1993.653  \n",
       "9846  2002.151475  2003.522244           1995.644  \n",
       "9847  2002.022614  2003.417897           1995.715  \n",
       "9848  2001.897711  2003.315872           1991.769  \n",
       "9849  2001.697142  2003.162933           1991.449  \n",
       "\n",
       "[9850 rows x 9 columns]"
      ]
     },
     "execution_count": 20,
     "metadata": {},
     "output_type": "execute_result"
    }
   ],
   "source": [
    "df['RSI'] = ta.rsi(df.close, length = 15)\n",
    "df['EMAF'] = ta.ema(df.close, length = 20)\n",
    "df['EMAM'] = ta.ema(df.close, length = 100)\n",
    "df['EMAS'] = ta.ema(df.close, length = 150)\n",
    "# df['Target'] = df['close'] - df.open\n",
    "# df['Target'] = df['Target'].shift(-1)\n",
    "\n",
    "# df['TargetClass'] = [1 if df.Target[i] > 0 else 0 for i in range(len(df))]\n",
    "df['Target-Next-Close'] = df['close'].shift(-1)\n",
    "\n",
    "\n",
    "\n",
    "df.dropna(inplace = True)\n",
    "df.reset_index(inplace = True)\n",
    "df.drop(['date','volume'], axis=1 , inplace=True)\n",
    "df"
   ]
  },
  {
   "cell_type": "code",
   "execution_count": 21,
   "metadata": {},
   "outputs": [],
   "source": [
    "# from sklearn.preprocessing import MinMaxScaler\n",
    "# sc = MinMaxScaler(feature_range=(0,1))\n",
    "# data_set_scaled = sc.fit_transform(df)\n",
    "# data_set_scaled"
   ]
  },
  {
   "cell_type": "code",
   "execution_count": 22,
   "metadata": {},
   "outputs": [
    {
     "data": {
      "text/plain": [
       "array([-0.38742715, -0.41610418, -0.42722664, ...,  2.01823317,\n",
       "        1.97331075,  1.96966778])"
      ]
     },
     "execution_count": 22,
     "metadata": {},
     "output_type": "execute_result"
    }
   ],
   "source": [
    "from sklearn.preprocessing import StandardScaler\n",
    "sc = StandardScaler()\n",
    "data_set_scaled = sc.fit_transform(df)\n",
    "data_set_scaled[:,8]\n"
   ]
  },
  {
   "cell_type": "code",
   "execution_count": 23,
   "metadata": {},
   "outputs": [
    {
     "name": "stdout",
     "output_type": "stream",
     "text": [
      "9850\n"
     ]
    }
   ],
   "source": [
    "X = []\n",
    "backcandles = 30\n",
    "print(data_set_scaled.shape[0])\n",
    "for j in range(8): # grabe open\thigh\tlow\tclose\tRSI\tEMAF\tEMAM\tEMAS\n",
    "    X.append([])\n",
    "    for i in range(backcandles, data_set_scaled.shape[0]):\n",
    "        X[j].append(data_set_scaled[i-backcandles:i, j])"
   ]
  },
  {
   "cell_type": "code",
   "execution_count": 24,
   "metadata": {},
   "outputs": [
    {
     "data": {
      "text/plain": [
       "(9820, 30, 8)"
      ]
     },
     "execution_count": 24,
     "metadata": {},
     "output_type": "execute_result"
    }
   ],
   "source": [
    "X=np.moveaxis(X, [0], [2])\n",
    "X.shape"
   ]
  },
  {
   "cell_type": "code",
   "execution_count": 25,
   "metadata": {},
   "outputs": [
    {
     "name": "stdout",
     "output_type": "stream",
     "text": [
      "(9820, 30, 8)\n",
      "(9820,)\n",
      "[-0.37614532 -0.40823764 -0.41734507 -0.38163255 -0.38540075 -0.41336057\n",
      " -0.42037329 -0.40970621 -0.38139348 -0.39390481]\n"
     ]
    }
   ],
   "source": [
    "X = np.array(X)\n",
    "y = np.array(data_set_scaled[backcandles:,-1])\n",
    "# y = np.reshape(y,(len(y),1))\n",
    "print(X.shape) # 3D X has 8 colume and each colume contain xx backcandles (row, backcandle, column)\n",
    "print(y.shape) # 2D contain 1 value (it's 1D array that reshape into 2D array)\n",
    "print(y[0:10])"
   ]
  },
  {
   "cell_type": "code",
   "execution_count": 26,
   "metadata": {},
   "outputs": [
    {
     "name": "stdout",
     "output_type": "stream",
     "text": [
      "(7856, 30, 8)\n",
      "(7856,)\n",
      "(1964, 30, 8)\n",
      "(1964,)\n",
      "[-0.40046481 -0.43497509 -0.45156592 -0.46188834 -0.46216088 -0.43688287\n",
      " -0.43097785 -0.37304056 -0.35069234]\n"
     ]
    }
   ],
   "source": [
    "proportion = int(len(X)*0.8)\n",
    "X_train, X_test = X[:proportion],X[proportion:]\n",
    "y_train, y_test = y[:proportion],y[proportion:]\n",
    "print(X_train.shape)\n",
    "print(y_train.shape)\n",
    "print(X_test.shape)\n",
    "print(y_test.shape)\n",
    "print(X[1,1:10,1])"
   ]
  },
  {
   "cell_type": "code",
   "execution_count": 27,
   "metadata": {},
   "outputs": [
    {
     "name": "stdout",
     "output_type": "stream",
     "text": [
      "Epoch 1/30\n",
      "524/524 [==============================] - 5s 9ms/step - loss: 0.0069 - val_loss: 0.0113\n",
      "Epoch 2/30\n",
      "524/524 [==============================] - 5s 9ms/step - loss: 0.0039 - val_loss: 0.0043\n",
      "Epoch 3/30\n",
      "524/524 [==============================] - 5s 9ms/step - loss: 0.0038 - val_loss: 0.0042\n",
      "Epoch 4/30\n",
      "524/524 [==============================] - 5s 10ms/step - loss: 0.0036 - val_loss: 0.0054\n",
      "Epoch 5/30\n",
      "524/524 [==============================] - 5s 9ms/step - loss: 0.0036 - val_loss: 0.0052\n",
      "Epoch 6/30\n",
      "524/524 [==============================] - 5s 9ms/step - loss: 0.0035 - val_loss: 0.0062\n",
      "Epoch 7/30\n",
      "524/524 [==============================] - 5s 9ms/step - loss: 0.0036 - val_loss: 0.0037\n",
      "Epoch 8/30\n",
      "524/524 [==============================] - 5s 9ms/step - loss: 0.0034 - val_loss: 0.0042\n",
      "Epoch 9/30\n",
      "524/524 [==============================] - 5s 9ms/step - loss: 0.0034 - val_loss: 0.0047\n",
      "Epoch 10/30\n",
      "524/524 [==============================] - 5s 9ms/step - loss: 0.0035 - val_loss: 0.0046\n",
      "Epoch 11/30\n",
      "524/524 [==============================] - 5s 9ms/step - loss: 0.0034 - val_loss: 0.0037\n",
      "Epoch 12/30\n",
      "524/524 [==============================] - 5s 9ms/step - loss: 0.0033 - val_loss: 0.0040\n",
      "Epoch 13/30\n",
      "524/524 [==============================] - 5s 9ms/step - loss: 0.0034 - val_loss: 0.0045\n",
      "Epoch 14/30\n",
      "524/524 [==============================] - 5s 9ms/step - loss: 0.0033 - val_loss: 0.0038\n",
      "Epoch 15/30\n",
      "524/524 [==============================] - 5s 9ms/step - loss: 0.0033 - val_loss: 0.0038\n",
      "Epoch 16/30\n",
      "524/524 [==============================] - 5s 9ms/step - loss: 0.0032 - val_loss: 0.0037\n",
      "Epoch 17/30\n",
      "524/524 [==============================] - 6s 11ms/step - loss: 0.0033 - val_loss: 0.0043\n",
      "Epoch 18/30\n",
      "524/524 [==============================] - 5s 9ms/step - loss: 0.0032 - val_loss: 0.0042\n",
      "Epoch 19/30\n",
      "524/524 [==============================] - 5s 9ms/step - loss: 0.0033 - val_loss: 0.0059\n",
      "Epoch 20/30\n",
      "524/524 [==============================] - 5s 9ms/step - loss: 0.0032 - val_loss: 0.0037\n",
      "Epoch 21/30\n",
      "524/524 [==============================] - 5s 10ms/step - loss: 0.0032 - val_loss: 0.0039\n",
      "Epoch 22/30\n",
      "524/524 [==============================] - 5s 10ms/step - loss: 0.0032 - val_loss: 0.0036\n",
      "Epoch 23/30\n",
      "524/524 [==============================] - 5s 10ms/step - loss: 0.0032 - val_loss: 0.0038\n",
      "Epoch 24/30\n",
      "524/524 [==============================] - 5s 10ms/step - loss: 0.0033 - val_loss: 0.0048\n",
      "Epoch 25/30\n",
      "524/524 [==============================] - 5s 10ms/step - loss: 0.0032 - val_loss: 0.0041\n",
      "Epoch 26/30\n",
      "524/524 [==============================] - 5s 9ms/step - loss: 0.0032 - val_loss: 0.0038\n",
      "Epoch 27/30\n",
      "524/524 [==============================] - 5s 9ms/step - loss: 0.0031 - val_loss: 0.0039\n",
      "Epoch 28/30\n",
      "524/524 [==============================] - 5s 9ms/step - loss: 0.0031 - val_loss: 0.0040\n",
      "Epoch 29/30\n",
      "524/524 [==============================] - 5s 9ms/step - loss: 0.0031 - val_loss: 0.0038\n",
      "Epoch 30/30\n",
      "524/524 [==============================] - 5s 9ms/step - loss: 0.0032 - val_loss: 0.0037\n"
     ]
    },
    {
     "data": {
      "text/plain": [
       "<keras.callbacks.History at 0x1b717e2d850>"
      ]
     },
     "execution_count": 27,
     "metadata": {},
     "output_type": "execute_result"
    }
   ],
   "source": [
    "from keras.models import Sequential, Model\n",
    "from keras.layers import LSTM, Dropout, Dense, TimeDistributed, Input, Activation\n",
    "from keras import optimizers\n",
    "from keras.callbacks import History\n",
    "import tensorflow as tf\n",
    "\n",
    "lstm_input = Input(shape=(backcandles, 8), name = 'lstm_input')\n",
    "inputs = LSTM(150, name='first_layer')(lstm_input)\n",
    "inputs = Dense(1, name='dense_layer')(inputs)\n",
    "output = Activation('linear', name='output')(inputs)\n",
    "model = Model(inputs = lstm_input, outputs = output)\n",
    "adam = optimizers.Adam()\n",
    "model.compile(optimizer=adam,loss='mse')\n",
    "model.fit(x=X_train, y = y_train, batch_size=15, epochs=30, shuffle=True,validation_data=(X_test, y_test))"
   ]
  },
  {
   "cell_type": "code",
   "execution_count": 28,
   "metadata": {},
   "outputs": [
    {
     "name": "stdout",
     "output_type": "stream",
     "text": [
      "62/62 [==============================] - 1s 6ms/step\n"
     ]
    },
    {
     "data": {
      "text/plain": [
       "array([[-0.42961577],\n",
       "       [-0.4070914 ],\n",
       "       [-0.38116166],\n",
       "       ...,\n",
       "       [ 1.9731948 ],\n",
       "       [ 1.998093  ],\n",
       "       [ 2.0003936 ]], dtype=float32)"
      ]
     },
     "execution_count": 28,
     "metadata": {},
     "output_type": "execute_result"
    }
   ],
   "source": [
    "y_hat = model.predict(X_test)\n",
    "y_hat"
   ]
  },
  {
   "cell_type": "code",
   "execution_count": 29,
   "metadata": {},
   "outputs": [
    {
     "data": {
      "image/png": "[encoded data removed]",
      "text/plain": [
       "<Figure size 1600x800 with 1 Axes>"
      ]
     },
     "metadata": {},
     "output_type": "display_data"
    }
   ],
   "source": [
    "plt.figure(figsize=(16,8))\n",
    "plt.plot(y_test, color = 'blue', label = 'Test')\n",
    "plt.plot(y_hat, color = 'red', label = 'Prediction')\n",
    "plt.legend()\n",
    "plt.show()"
   ]
  },
  {
   "cell_type": "code",
   "execution_count": 30,
   "metadata": {},
   "outputs": [
    {
     "name": "stdout",
     "output_type": "stream",
     "text": [
      "62/62 [==============================] - 0s 5ms/step - loss: 0.0037\n",
      "Test loss: 0.00374391907826066\n"
     ]
    }
   ],
   "source": [
    "# Evaluate the model on the test data\n",
    "loss = model.evaluate(X_test, y_test)\n",
    "\n",
    "# Print the mean squared error loss\n",
    "print('Test loss:', loss)\n"
   ]
  },
  {
   "cell_type": "code",
   "execution_count": 31,
   "metadata": {},
   "outputs": [
    {
     "name": "stdout",
     "output_type": "stream",
     "text": [
      "62/62 [==============================] - 0s 5ms/step - loss: 0.0037\n",
      "Test loss: 0.00374391907826066\n",
      "62/62 [==============================] - 0s 4ms/step\n",
      "TEST SET\n",
      "Mean squared error (MSE): 0.0037439195528815162\n",
      "Root mean squared error (RMSE): 0.06118757678550047\n",
      "R-squared (R2): 0.9937754712420649\n",
      "\n",
      "246/246 [==============================] - 1s 5ms/step - loss: 0.0029\n",
      "Training loss: 0.0029252544045448303\n",
      "246/246 [==============================] - 1s 5ms/step\n",
      "TRAINING SET\n",
      "Mean squared error (MSE): 0.0029252535901971815\n",
      "Root mean squared error (RMSE): 0.054085613523350014\n",
      "R-squared (R2): 0.9965631950471623\n"
     ]
    }
   ],
   "source": [
    "# Evaluate the model on the test data\n",
    "loss = model.evaluate(X_test, y_test)\n",
    "\n",
    "# Print the mean squared error loss\n",
    "print('Test loss:', loss)\n",
    "\n",
    "# Generate predictions on the test data\n",
    "y_pred = model.predict(X_test)\n",
    "\n",
    "# Compute the mean squared error (MSE) and root mean squared error (RMSE)\n",
    "from sklearn.metrics import mean_squared_error\n",
    "mse = mean_squared_error(y_test, y_pred)\n",
    "rmse = np.sqrt(mse)\n",
    "\n",
    "# Compute the coefficient of determination (R-squared)\n",
    "from sklearn.metrics import r2_score\n",
    "r2 = r2_score(y_test, y_pred)\n",
    "\n",
    "# Print the performance metrics\n",
    "print(\"TEST SET\")\n",
    "print('Mean squared error (MSE):', mse)\n",
    "print('Root mean squared error (RMSE):', rmse)\n",
    "print('R-squared (R2):', r2)\n",
    "print()\n",
    "\n",
    "loss = model.evaluate(X_train, y_train)\n",
    "print('Training loss:', loss)\n",
    "\n",
    "y_pred = model.predict(X_train)\n",
    "\n",
    "mse = mean_squared_error(y_train, y_pred)\n",
    "rmse = np.sqrt(mse)\n",
    "\n",
    "r2 = r2_score(y_train, y_pred)\n",
    "print(\"TRAINING SET\")\n",
    "print('Mean squared error (MSE):', mse)\n",
    "print('Root mean squared error (RMSE):', rmse)\n",
    "print('R-squared (R2):', r2)"
   ]
  },
  {
   "cell_type": "code",
   "execution_count": null,
   "metadata": {},
   "outputs": [],
   "source": []
  }
 ],
 "metadata": {
  "kernelspec": {
   "display_name": "vnn",
   "language": "python",
   "name": "python3"
  },
  "language_info": {
   "codemirror_mode": {
    "name": "ipython",
    "version": 3
   },
   "file_extension": ".py",
   "mimetype": "text/x-python",
   "name": "python",
   "nbconvert_exporter": "python",
   "pygments_lexer": "ipython3",
   "version": "3.9.13"
  },
  "orig_nbformat": 4
 },
 "nbformat": 4,
 "nbformat_minor": 2
}
