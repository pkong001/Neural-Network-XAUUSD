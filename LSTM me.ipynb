{
 "cells": [
  {
   "cell_type": "code",
   "execution_count": 4,
   "metadata": {},
   "outputs": [],
   "source": [
    "import numpy as np\n",
    "import matplotlib.pyplot as plt\n",
    "import pandas as pd\n",
    "import pandas_ta as ta\n",
    "from sklearn.preprocessing import MinMaxScaler\n",
    "import MetaTrader5 as mt5\n",
    "from account_credentials import LOGIN,PASSWORD,SERVER\n",
    "from datetime import datetime\n",
    "\n",
    "from sklearn.metrics import mean_squared_error\n",
    "from sklearn.metrics import mean_absolute_error\n"
   ]
  },
  {
   "cell_type": "code",
   "execution_count": 5,
   "metadata": {},
   "outputs": [
    {
     "name": "stdout",
     "output_type": "stream",
     "text": [
      "initialize:  True\n",
      "logged in:  True\n",
      "\n",
      "\n",
      "2023-04-26 07:26:36.780086 | Login:  114123121 | Balance:  484.96 | Equity:  484.96\n"
     ]
    }
   ],
   "source": [
    "is_initialized = mt5.initialize()\n",
    "print('initialize: ', is_initialized)\n",
    "\n",
    "is_logged_in = mt5.login(LOGIN, PASSWORD, SERVER)\n",
    "print('logged in: ', is_logged_in)\n",
    "print('\\n')\n",
    "account_info = mt5.account_info()\n",
    "print(datetime.now(),\n",
    "    '| Login: ', account_info.login,\n",
    "    '| Balance: ', account_info.balance,\n",
    "    '| Equity: ' , account_info.equity)"
   ]
  },
  {
   "cell_type": "code",
   "execution_count": 6,
   "metadata": {},
   "outputs": [
    {
     "name": "stdout",
     "output_type": "stream",
     "text": [
      "                         open      high       low     close  volume\n",
      "date                                                               \n",
      "2021-08-16 08:00:00  1774.638  1776.738  1773.727  1776.017    3529\n",
      "2021-08-16 09:00:00  1776.048  1776.376  1773.759  1776.206    3230\n",
      "2021-08-16 10:00:00  1776.196  1776.754  1774.611  1774.708    3185\n",
      "2021-08-16 11:00:00  1774.731  1774.891  1770.877  1772.150    4361\n",
      "2021-08-16 12:00:00  1772.182  1781.252  1771.998  1778.329    6374\n"
     ]
    }
   ],
   "source": [
    "symbol = 'XAUUSD'\n",
    "number_of_date= 10000\n",
    "timeframe = mt5.TIMEFRAME_H1\n",
    "from_date = datetime.now()\n",
    "\n",
    "df = pd.DataFrame(mt5.copy_rates_from(symbol,timeframe,from_date,number_of_date))\n",
    "df[\"time\"] = pd.to_datetime(df[\"time\"], unit=\"s\")\n",
    "df = df.rename(columns={'time': 'date','tick_volume':'volume'})\n",
    "df = df[['date','open','high','low','close','volume']]\n",
    "df = df.set_index(\"date\")\n",
    "print(df.head()) # just to make sure that sorted from old to new"
   ]
  },
  {
   "attachments": {},
   "cell_type": "markdown",
   "metadata": {},
   "source": [
    "##### Adding Features"
   ]
  },
  {
   "cell_type": "code",
   "execution_count": 7,
   "metadata": {},
   "outputs": [
    {
     "data": {
      "text/html": [
       "<div>\n",
       "<style scoped>\n",
       "    .dataframe tbody tr th:only-of-type {\n",
       "        vertical-align: middle;\n",
       "    }\n",
       "\n",
       "    .dataframe tbody tr th {\n",
       "        vertical-align: top;\n",
       "    }\n",
       "\n",
       "    .dataframe thead th {\n",
       "        text-align: right;\n",
       "    }\n",
       "</style>\n",
       "<table border=\"1\" class=\"dataframe\">\n",
       "  <thead>\n",
       "    <tr style=\"text-align: right;\">\n",
       "      <th></th>\n",
       "      <th>open</th>\n",
       "      <th>high</th>\n",
       "      <th>low</th>\n",
       "      <th>close</th>\n",
       "      <th>RSI</th>\n",
       "      <th>EMAF</th>\n",
       "      <th>EMAM</th>\n",
       "      <th>EMAS</th>\n",
       "      <th>Target-Next-Close</th>\n",
       "    </tr>\n",
       "  </thead>\n",
       "  <tbody>\n",
       "    <tr>\n",
       "      <th>0</th>\n",
       "      <td>1805.960</td>\n",
       "      <td>1806.221</td>\n",
       "      <td>1803.125</td>\n",
       "      <td>1803.139</td>\n",
       "      <td>52.415269</td>\n",
       "      <td>1803.789686</td>\n",
       "      <td>1793.927712</td>\n",
       "      <td>1789.021820</td>\n",
       "      <td>1802.998</td>\n",
       "    </tr>\n",
       "    <tr>\n",
       "      <th>1</th>\n",
       "      <td>1803.117</td>\n",
       "      <td>1803.942</td>\n",
       "      <td>1802.687</td>\n",
       "      <td>1802.998</td>\n",
       "      <td>52.041451</td>\n",
       "      <td>1803.714288</td>\n",
       "      <td>1794.107322</td>\n",
       "      <td>1789.206935</td>\n",
       "      <td>1802.443</td>\n",
       "    </tr>\n",
       "    <tr>\n",
       "      <th>2</th>\n",
       "      <td>1802.663</td>\n",
       "      <td>1802.831</td>\n",
       "      <td>1802.388</td>\n",
       "      <td>1802.443</td>\n",
       "      <td>50.521889</td>\n",
       "      <td>1803.593213</td>\n",
       "      <td>1794.272385</td>\n",
       "      <td>1789.382247</td>\n",
       "      <td>1801.761</td>\n",
       "    </tr>\n",
       "    <tr>\n",
       "      <th>3</th>\n",
       "      <td>1802.415</td>\n",
       "      <td>1802.415</td>\n",
       "      <td>1801.175</td>\n",
       "      <td>1801.761</td>\n",
       "      <td>48.651549</td>\n",
       "      <td>1803.418716</td>\n",
       "      <td>1794.420674</td>\n",
       "      <td>1789.546204</td>\n",
       "      <td>1795.859</td>\n",
       "    </tr>\n",
       "    <tr>\n",
       "      <th>4</th>\n",
       "      <td>1801.772</td>\n",
       "      <td>1802.649</td>\n",
       "      <td>1793.992</td>\n",
       "      <td>1795.859</td>\n",
       "      <td>36.219103</td>\n",
       "      <td>1802.698743</td>\n",
       "      <td>1794.449156</td>\n",
       "      <td>1789.629817</td>\n",
       "      <td>1794.551</td>\n",
       "    </tr>\n",
       "    <tr>\n",
       "      <th>...</th>\n",
       "      <td>...</td>\n",
       "      <td>...</td>\n",
       "      <td>...</td>\n",
       "      <td>...</td>\n",
       "      <td>...</td>\n",
       "      <td>...</td>\n",
       "      <td>...</td>\n",
       "      <td>...</td>\n",
       "      <td>...</td>\n",
       "    </tr>\n",
       "    <tr>\n",
       "      <th>9845</th>\n",
       "      <td>1999.063</td>\n",
       "      <td>2003.868</td>\n",
       "      <td>1994.360</td>\n",
       "      <td>1995.770</td>\n",
       "      <td>56.127162</td>\n",
       "      <td>1990.149603</td>\n",
       "      <td>1991.680911</td>\n",
       "      <td>1994.080321</td>\n",
       "      <td>1999.182</td>\n",
       "    </tr>\n",
       "    <tr>\n",
       "      <th>9846</th>\n",
       "      <td>1995.735</td>\n",
       "      <td>1999.394</td>\n",
       "      <td>1994.743</td>\n",
       "      <td>1999.182</td>\n",
       "      <td>58.903359</td>\n",
       "      <td>1991.009831</td>\n",
       "      <td>1991.829448</td>\n",
       "      <td>1994.147893</td>\n",
       "      <td>1997.000</td>\n",
       "    </tr>\n",
       "    <tr>\n",
       "      <th>9847</th>\n",
       "      <td>1999.148</td>\n",
       "      <td>1999.150</td>\n",
       "      <td>1995.848</td>\n",
       "      <td>1997.000</td>\n",
       "      <td>56.455590</td>\n",
       "      <td>1991.580324</td>\n",
       "      <td>1991.931835</td>\n",
       "      <td>1994.185669</td>\n",
       "      <td>1997.657</td>\n",
       "    </tr>\n",
       "    <tr>\n",
       "      <th>9848</th>\n",
       "      <td>1996.207</td>\n",
       "      <td>1998.308</td>\n",
       "      <td>1996.063</td>\n",
       "      <td>1997.657</td>\n",
       "      <td>57.031630</td>\n",
       "      <td>1992.159055</td>\n",
       "      <td>1992.045204</td>\n",
       "      <td>1994.231647</td>\n",
       "      <td>2000.210</td>\n",
       "    </tr>\n",
       "    <tr>\n",
       "      <th>9849</th>\n",
       "      <td>1997.655</td>\n",
       "      <td>2001.693</td>\n",
       "      <td>1997.655</td>\n",
       "      <td>2000.210</td>\n",
       "      <td>59.274656</td>\n",
       "      <td>1992.925811</td>\n",
       "      <td>1992.206884</td>\n",
       "      <td>1994.310831</td>\n",
       "      <td>2001.848</td>\n",
       "    </tr>\n",
       "  </tbody>\n",
       "</table>\n",
       "<p>9850 rows × 9 columns</p>\n",
       "</div>"
      ],
      "text/plain": [
       "          open      high       low     close        RSI         EMAF   \n",
       "0     1805.960  1806.221  1803.125  1803.139  52.415269  1803.789686  \\\n",
       "1     1803.117  1803.942  1802.687  1802.998  52.041451  1803.714288   \n",
       "2     1802.663  1802.831  1802.388  1802.443  50.521889  1803.593213   \n",
       "3     1802.415  1802.415  1801.175  1801.761  48.651549  1803.418716   \n",
       "4     1801.772  1802.649  1793.992  1795.859  36.219103  1802.698743   \n",
       "...        ...       ...       ...       ...        ...          ...   \n",
       "9845  1999.063  2003.868  1994.360  1995.770  56.127162  1990.149603   \n",
       "9846  1995.735  1999.394  1994.743  1999.182  58.903359  1991.009831   \n",
       "9847  1999.148  1999.150  1995.848  1997.000  56.455590  1991.580324   \n",
       "9848  1996.207  1998.308  1996.063  1997.657  57.031630  1992.159055   \n",
       "9849  1997.655  2001.693  1997.655  2000.210  59.274656  1992.925811   \n",
       "\n",
       "             EMAM         EMAS  Target-Next-Close  \n",
       "0     1793.927712  1789.021820           1802.998  \n",
       "1     1794.107322  1789.206935           1802.443  \n",
       "2     1794.272385  1789.382247           1801.761  \n",
       "3     1794.420674  1789.546204           1795.859  \n",
       "4     1794.449156  1789.629817           1794.551  \n",
       "...           ...          ...                ...  \n",
       "9845  1991.680911  1994.080321           1999.182  \n",
       "9846  1991.829448  1994.147893           1997.000  \n",
       "9847  1991.931835  1994.185669           1997.657  \n",
       "9848  1992.045204  1994.231647           2000.210  \n",
       "9849  1992.206884  1994.310831           2001.848  \n",
       "\n",
       "[9850 rows x 9 columns]"
      ]
     },
     "execution_count": 7,
     "metadata": {},
     "output_type": "execute_result"
    }
   ],
   "source": [
    "df['RSI'] = ta.rsi(df.close, length = 15)\n",
    "df['EMAF'] = ta.ema(df.close, length = 20)\n",
    "df['EMAM'] = ta.ema(df.close, length = 100)\n",
    "df['EMAS'] = ta.ema(df.close, length = 150)\n",
    "# df['Target'] = df['close'] - df.open\n",
    "# df['Target'] = df['Target'].shift(-1)\n",
    "\n",
    "# df['TargetClass'] = [1 if df.Target[i] > 0 else 0 for i in range(len(df))]\n",
    "df['Target-Next-Close'] = df['close'].shift(-1)\n",
    "\n",
    "\n",
    "\n",
    "df.dropna(inplace = True)\n",
    "df.reset_index(inplace = True)\n",
    "df.drop(['date','volume'], axis=1 , inplace=True)\n",
    "# df = df[0:100]\n",
    "df"
   ]
  },
  {
   "cell_type": "code",
   "execution_count": 82,
   "metadata": {},
   "outputs": [
    {
     "data": {
      "text/html": [
       "<div>\n",
       "<style scoped>\n",
       "    .dataframe tbody tr th:only-of-type {\n",
       "        vertical-align: middle;\n",
       "    }\n",
       "\n",
       "    .dataframe tbody tr th {\n",
       "        vertical-align: top;\n",
       "    }\n",
       "\n",
       "    .dataframe thead th {\n",
       "        text-align: right;\n",
       "    }\n",
       "</style>\n",
       "<table border=\"1\" class=\"dataframe\">\n",
       "  <thead>\n",
       "    <tr style=\"text-align: right;\">\n",
       "      <th></th>\n",
       "      <th>open</th>\n",
       "      <th>high</th>\n",
       "      <th>low</th>\n",
       "      <th>close</th>\n",
       "      <th>RSI</th>\n",
       "      <th>EMAF</th>\n",
       "      <th>EMAM</th>\n",
       "      <th>EMAS</th>\n",
       "      <th>Target-Next-Close</th>\n",
       "    </tr>\n",
       "  </thead>\n",
       "  <tbody>\n",
       "    <tr>\n",
       "      <th>30</th>\n",
       "      <td>1788.717</td>\n",
       "      <td>1789.072</td>\n",
       "      <td>1787.667</td>\n",
       "      <td>1787.909</td>\n",
       "      <td>37.745940</td>\n",
       "      <td>1791.525612</td>\n",
       "      <td>1793.301328</td>\n",
       "      <td>1790.240984</td>\n",
       "      <td>1787.008</td>\n",
       "    </tr>\n",
       "    <tr>\n",
       "      <th>31</th>\n",
       "      <td>1787.895</td>\n",
       "      <td>1788.195</td>\n",
       "      <td>1786.766</td>\n",
       "      <td>1787.008</td>\n",
       "      <td>36.105458</td>\n",
       "      <td>1791.095363</td>\n",
       "      <td>1793.176707</td>\n",
       "      <td>1790.198163</td>\n",
       "      <td>1786.442</td>\n",
       "    </tr>\n",
       "    <tr>\n",
       "      <th>32</th>\n",
       "      <td>1786.979</td>\n",
       "      <td>1788.290</td>\n",
       "      <td>1786.098</td>\n",
       "      <td>1786.442</td>\n",
       "      <td>35.079317</td>\n",
       "      <td>1790.652186</td>\n",
       "      <td>1793.043347</td>\n",
       "      <td>1790.148413</td>\n",
       "      <td>1784.545</td>\n",
       "    </tr>\n",
       "    <tr>\n",
       "      <th>33</th>\n",
       "      <td>1786.446</td>\n",
       "      <td>1787.222</td>\n",
       "      <td>1783.680</td>\n",
       "      <td>1784.545</td>\n",
       "      <td>31.830727</td>\n",
       "      <td>1790.070549</td>\n",
       "      <td>1792.875063</td>\n",
       "      <td>1790.074195</td>\n",
       "      <td>1786.983</td>\n",
       "    </tr>\n",
       "    <tr>\n",
       "      <th>34</th>\n",
       "      <td>1784.496</td>\n",
       "      <td>1787.967</td>\n",
       "      <td>1784.262</td>\n",
       "      <td>1786.983</td>\n",
       "      <td>39.540442</td>\n",
       "      <td>1789.776497</td>\n",
       "      <td>1792.758388</td>\n",
       "      <td>1790.033252</td>\n",
       "      <td>1784.475</td>\n",
       "    </tr>\n",
       "    <tr>\n",
       "      <th>...</th>\n",
       "      <td>...</td>\n",
       "      <td>...</td>\n",
       "      <td>...</td>\n",
       "      <td>...</td>\n",
       "      <td>...</td>\n",
       "      <td>...</td>\n",
       "      <td>...</td>\n",
       "      <td>...</td>\n",
       "      <td>...</td>\n",
       "    </tr>\n",
       "    <tr>\n",
       "      <th>9845</th>\n",
       "      <td>1999.063</td>\n",
       "      <td>2003.868</td>\n",
       "      <td>1994.360</td>\n",
       "      <td>1995.770</td>\n",
       "      <td>56.127162</td>\n",
       "      <td>1990.149603</td>\n",
       "      <td>1991.680911</td>\n",
       "      <td>1994.080321</td>\n",
       "      <td>1999.182</td>\n",
       "    </tr>\n",
       "    <tr>\n",
       "      <th>9846</th>\n",
       "      <td>1995.735</td>\n",
       "      <td>1999.394</td>\n",
       "      <td>1994.743</td>\n",
       "      <td>1999.182</td>\n",
       "      <td>58.903359</td>\n",
       "      <td>1991.009831</td>\n",
       "      <td>1991.829448</td>\n",
       "      <td>1994.147893</td>\n",
       "      <td>1997.000</td>\n",
       "    </tr>\n",
       "    <tr>\n",
       "      <th>9847</th>\n",
       "      <td>1999.148</td>\n",
       "      <td>1999.150</td>\n",
       "      <td>1995.848</td>\n",
       "      <td>1997.000</td>\n",
       "      <td>56.455590</td>\n",
       "      <td>1991.580324</td>\n",
       "      <td>1991.931835</td>\n",
       "      <td>1994.185669</td>\n",
       "      <td>1997.657</td>\n",
       "    </tr>\n",
       "    <tr>\n",
       "      <th>9848</th>\n",
       "      <td>1996.207</td>\n",
       "      <td>1998.308</td>\n",
       "      <td>1996.063</td>\n",
       "      <td>1997.657</td>\n",
       "      <td>57.031630</td>\n",
       "      <td>1992.159055</td>\n",
       "      <td>1992.045204</td>\n",
       "      <td>1994.231647</td>\n",
       "      <td>2000.210</td>\n",
       "    </tr>\n",
       "    <tr>\n",
       "      <th>9849</th>\n",
       "      <td>1997.655</td>\n",
       "      <td>2001.693</td>\n",
       "      <td>1997.655</td>\n",
       "      <td>2000.210</td>\n",
       "      <td>59.274656</td>\n",
       "      <td>1992.925811</td>\n",
       "      <td>1992.206884</td>\n",
       "      <td>1994.310831</td>\n",
       "      <td>2001.848</td>\n",
       "    </tr>\n",
       "  </tbody>\n",
       "</table>\n",
       "<p>9820 rows × 9 columns</p>\n",
       "</div>"
      ],
      "text/plain": [
       "          open      high       low     close        RSI         EMAF   \n",
       "30    1788.717  1789.072  1787.667  1787.909  37.745940  1791.525612  \\\n",
       "31    1787.895  1788.195  1786.766  1787.008  36.105458  1791.095363   \n",
       "32    1786.979  1788.290  1786.098  1786.442  35.079317  1790.652186   \n",
       "33    1786.446  1787.222  1783.680  1784.545  31.830727  1790.070549   \n",
       "34    1784.496  1787.967  1784.262  1786.983  39.540442  1789.776497   \n",
       "...        ...       ...       ...       ...        ...          ...   \n",
       "9845  1999.063  2003.868  1994.360  1995.770  56.127162  1990.149603   \n",
       "9846  1995.735  1999.394  1994.743  1999.182  58.903359  1991.009831   \n",
       "9847  1999.148  1999.150  1995.848  1997.000  56.455590  1991.580324   \n",
       "9848  1996.207  1998.308  1996.063  1997.657  57.031630  1992.159055   \n",
       "9849  1997.655  2001.693  1997.655  2000.210  59.274656  1992.925811   \n",
       "\n",
       "             EMAM         EMAS  Target-Next-Close  \n",
       "30    1793.301328  1790.240984           1787.008  \n",
       "31    1793.176707  1790.198163           1786.442  \n",
       "32    1793.043347  1790.148413           1784.545  \n",
       "33    1792.875063  1790.074195           1786.983  \n",
       "34    1792.758388  1790.033252           1784.475  \n",
       "...           ...          ...                ...  \n",
       "9845  1991.680911  1994.080321           1999.182  \n",
       "9846  1991.829448  1994.147893           1997.000  \n",
       "9847  1991.931835  1994.185669           1997.657  \n",
       "9848  1992.045204  1994.231647           2000.210  \n",
       "9849  1992.206884  1994.310831           2001.848  \n",
       "\n",
       "[9820 rows x 9 columns]"
      ]
     },
     "execution_count": 82,
     "metadata": {},
     "output_type": "execute_result"
    }
   ],
   "source": [
    "df.iloc[30:,:]"
   ]
  },
  {
   "cell_type": "markdown",
   "metadata": {},
   "source": [
    "from sklearn.preprocessing import StandardScaler\n",
    "from sklearn.preprocessing import MinMaxScaler\n",
    "scaler_x = StandardScaler().fit(df.iloc[:,:8])\n",
    "scaled_x = scaler_x.transform(df.iloc[:,:8])\n",
    "scaler_y = StandardScaler().fit(df.iloc[:,8].values.reshape(-1, 1))\n",
    "scaled_y = scaler_y.transform(df.iloc[:,8].values.reshape(-1, 1))\n",
    "scaled_x.shape"
   ]
  },
  {
   "cell_type": "code",
   "execution_count": 8,
   "metadata": {},
   "outputs": [
    {
     "name": "stdout",
     "output_type": "stream",
     "text": [
      "(9850, 8)\n"
     ]
    },
    {
     "data": {
      "text/plain": [
       "array([[0.41799255, 0.41303106, 0.43162363, ..., 0.43036592, 0.40575482,\n",
       "        0.3935056 ],\n",
       "       [0.41171444, 0.40796681, 0.43062084, ..., 0.43018362, 0.40622598,\n",
       "        0.39400491],\n",
       "       [0.41071188, 0.40549801, 0.42993628, ..., 0.42989087, 0.40665898,\n",
       "        0.39447778],\n",
       "       ...,\n",
       "       [0.84460398, 0.84174598, 0.87285848, ..., 0.88442134, 0.92516449,\n",
       "        0.94689532],\n",
       "       [0.83810946, 0.83987494, 0.87335072, ..., 0.88582064, 0.92546188,\n",
       "        0.94701934],\n",
       "       [0.84130703, 0.84739688, 0.87699557, ..., 0.88767457, 0.925886  ,\n",
       "        0.94723292]])"
      ]
     },
     "execution_count": 8,
     "metadata": {},
     "output_type": "execute_result"
    }
   ],
   "source": [
    "scaler_x = MinMaxScaler(feature_range=(0,1))\n",
    "scaled_x = scaler_x.fit_transform(df.iloc[:,:8])\n",
    "print(scaled_x.shape)\n",
    "scaled_x"
   ]
  },
  {
   "cell_type": "code",
   "execution_count": 9,
   "metadata": {},
   "outputs": [
    {
     "name": "stdout",
     "output_type": "stream",
     "text": [
      "(9850, 1)\n"
     ]
    },
    {
     "data": {
      "text/plain": [
       "array([[0.41146942],\n",
       "       [0.41024373],\n",
       "       [0.40873756],\n",
       "       ...,\n",
       "       [0.84136624],\n",
       "       [0.84700444],\n",
       "       [0.8506219 ]])"
      ]
     },
     "execution_count": 9,
     "metadata": {},
     "output_type": "execute_result"
    }
   ],
   "source": [
    "scaler_y = MinMaxScaler(feature_range=(0,1))\n",
    "scaled_y = scaler_y.fit_transform(df.iloc[:,8].values.reshape(-1, 1))\n",
    "print(scaled_y.shape)\n",
    "scaled_y"
   ]
  },
  {
   "cell_type": "code",
   "execution_count": 10,
   "metadata": {},
   "outputs": [],
   "source": [
    "# # Save the array to a CSV file\n",
    "# np.savetxt('arrayx.csv', scaled_x, delimiter=',')\n",
    "# np.savetxt('arrayy.csv', scaled_y, delimiter=',')"
   ]
  },
  {
   "cell_type": "code",
   "execution_count": 11,
   "metadata": {},
   "outputs": [
    {
     "name": "stdout",
     "output_type": "stream",
     "text": [
      "9850\n",
      "(8, 9821, 30)\n",
      "(9821, 30, 8)\n"
     ]
    }
   ],
   "source": [
    "X = []\n",
    "backcandles = 30\n",
    "print(scaled_x.shape[0])\n",
    "for j in range(8): \n",
    "    X.append([])\n",
    "    for i in range(0, scaled_x.shape[0]-backcandles+1):\n",
    "        X[j].append(scaled_x[i:i+backcandles, j])\n",
    "print(np.array(X).shape)\n",
    "\n",
    "X = np.moveaxis(X, [0], [2])  # move the feature axis to the second dimension\n",
    "print(X.shape)"
   ]
  },
  {
   "cell_type": "code",
   "execution_count": 12,
   "metadata": {},
   "outputs": [],
   "source": [
    "# X = []\n",
    "# backcandles = 30\n",
    "# print(df_a.shape[0])\n",
    "# for j in range(8): # grabe open\thigh\tlow\tclose\tRSI\tEMAF\tEMAM\tEMAS\n",
    "#     X.append([])\n",
    "#     for i in range(backcandles, df_a.shape[0]):\n",
    "#         X[j].append(df_a[i-backcandles:i, j])\n",
    "# X=np.moveaxis(X, [0], [2])\n",
    "# X.shape\n",
    "\n",
    "\n",
    "# X = []\n",
    "# backcandles = 30\n",
    "# print(scaled_x.shape[0])\n",
    "# for j in range(8): \n",
    "#     X.append([])\n",
    "#     for i in range(backcandles, scaled_x.shape[0]):\n",
    "#         X[j].append(scaled_x[i-backcandles:i, j])\n",
    "# X = np.moveaxis(X, [0], [2])  # move the feature axis to the second dimension\n",
    "# X = X[::-1]  # reverse the order of the samples to put the most recent data at the end\n",
    "# X.shape\n"
   ]
  },
  {
   "cell_type": "code",
   "execution_count": 13,
   "metadata": {},
   "outputs": [
    {
     "data": {
      "text/plain": [
       "array([0.41799255, 0.41303106, 0.43162363, 0.41178081, 0.50505363,\n",
       "       0.43036592, 0.40575482, 0.3935056 ])"
      ]
     },
     "execution_count": 13,
     "metadata": {},
     "output_type": "execute_result"
    }
   ],
   "source": [
    "X[0,0,:]"
   ]
  },
  {
   "cell_type": "code",
   "execution_count": 149,
   "metadata": {},
   "outputs": [
    {
     "data": {
      "text/plain": [
       "array([0.41799255, 0.41171444, 0.41071188, 0.41016423, 0.40874431,\n",
       "       0.39573097, 0.39288009, 0.39580164, 0.39345866, 0.39203212,\n",
       "       0.39386057, 0.39065857, 0.39256873, 0.39107373, 0.391893  ,\n",
       "       0.39210057, 0.39205199, 0.39534232, 0.38119172, 0.37035573,\n",
       "       0.38089581, 0.38235768, 0.38108572, 0.38775028, 0.38449529,\n",
       "       0.38499877, 0.38476691, 0.38622436, 0.3830842 , 0.38345519])"
      ]
     },
     "execution_count": 149,
     "metadata": {},
     "output_type": "execute_result"
    }
   ],
   "source": [
    "X[0,:,0]"
   ]
  },
  {
   "cell_type": "code",
   "execution_count": 15,
   "metadata": {},
   "outputs": [
    {
     "name": "stdout",
     "output_type": "stream",
     "text": [
      "(9821, 30, 8)\n",
      "(9821, 1)\n",
      "[[0.37814595]\n",
      " [0.37615613]\n",
      " [0.37490614]\n",
      " ...\n",
      " [0.84136624]\n",
      " [0.84700444]\n",
      " [0.8506219 ]]\n"
     ]
    }
   ],
   "source": [
    "# X = X\n",
    "y = scaled_y[(scaled_y.shape[0]-X.shape[0]):,:] # matching the shape of X\n",
    "# y = np.reshape(y,(len(y),1))\n",
    "print(X.shape) # 3D X has 8 colume and each colume contain xx backcandles (row, backcandle, column)\n",
    "print(y.shape) # 2D contain 1 value (it's 1D array that reshape into 2D array)\n",
    "print(y)"
   ]
  },
  {
   "cell_type": "code",
   "execution_count": 146,
   "metadata": {},
   "outputs": [
    {
     "name": "stdout",
     "output_type": "stream",
     "text": [
      "7856\n",
      "(7856, 30, 8)\n",
      "(7856, 1)\n",
      "(1965, 30, 8)\n",
      "(1965, 1)\n",
      "[0.40549801 0.4045736  0.40509359 0.39424288 0.39094301 0.39035414\n",
      " 0.38806312 0.39200519 0.39349847]\n"
     ]
    }
   ],
   "source": [
    "proportion = int(len(X)*0.8)\n",
    "X_train, X_test = X[:proportion],X[proportion:]\n",
    "y_train, y_test = y[:proportion],y[proportion:]\n",
    "print(X_train.shape)\n",
    "print(y_train.shape)\n",
    "print(X_test.shape)\n",
    "print(y_test.shape)\n",
    "print(X[1,1:10,1])"
   ]
  },
  {
   "cell_type": "code",
   "execution_count": 157,
   "metadata": {},
   "outputs": [
    {
     "data": {
      "text/plain": [
       "array([0.43727296, 0.4380079 , 0.45575243, 0.44235033, 0.51925229,\n",
       "       0.46147527, 0.43599655, 0.42722342])"
      ]
     },
     "execution_count": 157,
     "metadata": {},
     "output_type": "execute_result"
    }
   ],
   "source": [
    "X[proportion,-1,:] # row สุดท้ายของ X_test"
   ]
  },
  {
   "cell_type": "code",
   "execution_count": 23,
   "metadata": {},
   "outputs": [
    {
     "name": "stdout",
     "output_type": "stream",
     "text": [
      "Epoch 1/30\n",
      "524/524 [==============================] - 5s 8ms/step - loss: 4.9165e-04 - val_loss: 2.7387e-04\n",
      "Epoch 2/30\n",
      "524/524 [==============================] - 4s 8ms/step - loss: 1.1804e-04 - val_loss: 1.3404e-04\n",
      "Epoch 3/30\n",
      "524/524 [==============================] - 4s 8ms/step - loss: 1.0888e-04 - val_loss: 1.1851e-04\n",
      "Epoch 4/30\n",
      "524/524 [==============================] - 4s 8ms/step - loss: 1.0071e-04 - val_loss: 1.0159e-04\n",
      "Epoch 5/30\n",
      "524/524 [==============================] - 4s 8ms/step - loss: 9.5876e-05 - val_loss: 1.5680e-04\n",
      "Epoch 6/30\n",
      "524/524 [==============================] - 4s 8ms/step - loss: 9.0776e-05 - val_loss: 1.3809e-04\n",
      "Epoch 7/30\n",
      "524/524 [==============================] - 4s 8ms/step - loss: 8.9981e-05 - val_loss: 9.1420e-05\n",
      "Epoch 8/30\n",
      "524/524 [==============================] - 4s 8ms/step - loss: 9.2684e-05 - val_loss: 8.7104e-05\n",
      "Epoch 9/30\n",
      "524/524 [==============================] - 4s 8ms/step - loss: 8.2515e-05 - val_loss: 8.0788e-05\n",
      "Epoch 10/30\n",
      "524/524 [==============================] - 4s 8ms/step - loss: 8.8320e-05 - val_loss: 1.1546e-04\n",
      "Epoch 11/30\n",
      "524/524 [==============================] - 4s 8ms/step - loss: 8.5185e-05 - val_loss: 9.2721e-05\n",
      "Epoch 12/30\n",
      "524/524 [==============================] - 4s 8ms/step - loss: 7.7963e-05 - val_loss: 8.2945e-05\n",
      "Epoch 13/30\n",
      "524/524 [==============================] - 4s 8ms/step - loss: 7.7508e-05 - val_loss: 1.5290e-04\n",
      "Epoch 14/30\n",
      "524/524 [==============================] - 4s 8ms/step - loss: 7.9317e-05 - val_loss: 2.0625e-04\n",
      "Epoch 15/30\n",
      "524/524 [==============================] - 4s 8ms/step - loss: 8.0450e-05 - val_loss: 1.0465e-04\n",
      "Epoch 16/30\n",
      "524/524 [==============================] - 4s 8ms/step - loss: 7.3361e-05 - val_loss: 7.1599e-05\n",
      "Epoch 17/30\n",
      "524/524 [==============================] - 4s 8ms/step - loss: 7.5550e-05 - val_loss: 7.2654e-05\n",
      "Epoch 18/30\n",
      "524/524 [==============================] - 4s 8ms/step - loss: 7.8551e-05 - val_loss: 7.9013e-05\n",
      "Epoch 19/30\n",
      "524/524 [==============================] - 4s 8ms/step - loss: 7.7610e-05 - val_loss: 7.1729e-05\n",
      "Epoch 20/30\n",
      "524/524 [==============================] - 4s 8ms/step - loss: 7.2302e-05 - val_loss: 1.1470e-04\n",
      "Epoch 21/30\n",
      "524/524 [==============================] - 4s 8ms/step - loss: 7.2394e-05 - val_loss: 7.2859e-05\n",
      "Epoch 22/30\n",
      "524/524 [==============================] - 4s 8ms/step - loss: 7.3212e-05 - val_loss: 1.1292e-04\n",
      "Epoch 23/30\n",
      "524/524 [==============================] - 4s 8ms/step - loss: 7.6807e-05 - val_loss: 8.4778e-05\n",
      "Epoch 24/30\n",
      "524/524 [==============================] - 4s 8ms/step - loss: 7.1452e-05 - val_loss: 8.2713e-05\n",
      "Epoch 25/30\n",
      "524/524 [==============================] - 4s 8ms/step - loss: 7.0905e-05 - val_loss: 7.1862e-05\n",
      "Epoch 26/30\n",
      "524/524 [==============================] - 4s 8ms/step - loss: 7.2711e-05 - val_loss: 7.1450e-05\n",
      "Epoch 27/30\n",
      "524/524 [==============================] - 4s 8ms/step - loss: 7.1149e-05 - val_loss: 7.1745e-05\n",
      "Epoch 28/30\n",
      "524/524 [==============================] - 4s 8ms/step - loss: 7.0521e-05 - val_loss: 7.1076e-05\n",
      "Epoch 29/30\n",
      "524/524 [==============================] - 4s 8ms/step - loss: 7.0957e-05 - val_loss: 9.3525e-05\n",
      "Epoch 30/30\n",
      "524/524 [==============================] - 4s 8ms/step - loss: 7.3221e-05 - val_loss: 8.6581e-05\n"
     ]
    },
    {
     "data": {
      "text/plain": [
       "<keras.callbacks.History at 0x21251e79340>"
      ]
     },
     "execution_count": 23,
     "metadata": {},
     "output_type": "execute_result"
    }
   ],
   "source": [
    "from keras.models import Sequential\n",
    "from keras.layers import LSTM, Dense\n",
    "\n",
    "# Define the Sequential model\n",
    "model = Sequential()\n",
    "\n",
    "# Add the LSTM layer with 150 units and input shape (backcandles, 8)\n",
    "model.add(LSTM(units=150, input_shape=(backcandles, 8), name='lstm_layer'))\n",
    "\n",
    "# Add a dense layer with a single output neuron and linear activation function\n",
    "model.add(Dense(units=1, activation='linear', name='output'))\n",
    "\n",
    "# Compile the model with the Adam optimizer and mean squared error loss function\n",
    "model.compile(optimizer='adam', loss='mse')\n",
    "\n",
    "# Train the model on the training data with a batch size of 15 and for 30 epochs\n",
    "model.fit(x=X_train, y=y_train, batch_size=15, epochs=30, shuffle=True, validation_data=(X_test, y_test))\n"
   ]
  },
  {
   "cell_type": "markdown",
   "metadata": {},
   "source": [
    "best_model = None\n",
    "best_loss = float('inf')\n",
    "\n",
    "for i in range(20):\n",
    "    # Define the Sequential model\n",
    "    model = Sequential()\n",
    "\n",
    "    # Add the LSTM layer with 150 units and input shape (backcandles, 8)\n",
    "    model.add(LSTM(units=150, input_shape=(backcandles, 8), name='lstm_layer'))\n",
    "\n",
    "    # Add a dense layer with a single output neuron and linear activation function\n",
    "    model.add(Dense(units=1, activation='linear', name='output'))\n",
    "\n",
    "    # Compile the model with the Adam optimizer and mean squared error loss function\n",
    "    model.compile(optimizer='adam', loss='mse')\n",
    "\n",
    "    # Train the model on the training data with a batch size of 15 and for 30 epochs\n",
    "    model.fit(x=X_train, y=y_train, batch_size=15, epochs=30, shuffle=True, validation_data=(X_test, y_test))\n",
    "\n",
    "    # Evaluate the model on the validation data\n",
    "    val_loss = model.evaluate(x=X_test, y=y_test)\n",
    "\n",
    "    # If this is the best model so far, store it\n",
    "    if val_loss < best_loss:\n",
    "        best_model = model\n",
    "        best_loss = val_loss\n",
    "\n",
    "print(f'The best model has a validation loss of {best_loss}.')\n"
   ]
  },
  {
   "cell_type": "code",
   "execution_count": 18,
   "metadata": {},
   "outputs": [
    {
     "name": "stdout",
     "output_type": "stream",
     "text": [
      "Model: \"sequential\"\n",
      "_________________________________________________________________\n",
      " Layer (type)                Output Shape              Param #   \n",
      "=================================================================\n",
      " lstm_layer (LSTM)           (None, 150)               95400     \n",
      "                                                                 \n",
      " output (Dense)              (None, 1)                 151       \n",
      "                                                                 \n",
      "=================================================================\n",
      "Total params: 95,551\n",
      "Trainable params: 95,551\n",
      "Non-trainable params: 0\n",
      "_________________________________________________________________\n"
     ]
    }
   ],
   "source": [
    "model.summary()"
   ]
  },
  {
   "cell_type": "code",
   "execution_count": 24,
   "metadata": {},
   "outputs": [
    {
     "name": "stdout",
     "output_type": "stream",
     "text": [
      "62/62 [==============================] - 0s 4ms/step\n",
      "[0.44037193] [0.44434678]\n",
      "[0.44212115] [0.44227083]\n",
      "[0.43821728] [0.43710965]\n",
      "[0.43317884] [0.43994532]\n",
      "[0.43771347] [0.44489669]\n",
      "[0.4424968] [0.4218779]\n",
      "[0.41797593] [0.41038728]\n",
      "[0.40689853] [0.39512018]\n",
      "[0.3925422] [0.39478892]\n",
      "[0.39056474] [0.38949965]\n"
     ]
    }
   ],
   "source": [
    "y_hat = model.predict(X_test)\n",
    "for i in range(10):\n",
    "    print(y_hat[i], y_test[i])"
   ]
  },
  {
   "cell_type": "code",
   "execution_count": 25,
   "metadata": {},
   "outputs": [
    {
     "data": {
      "image/png": "[encoded data removed]",
      "text/plain": [
       "<Figure size 1600x800 with 1 Axes>"
      ]
     },
     "metadata": {},
     "output_type": "display_data"
    }
   ],
   "source": [
    "plt.figure(figsize=(16,8))\n",
    "plt.plot(y_test, color = 'blue', label = 'Test')\n",
    "plt.plot(y_hat, color = 'red', label = 'Prediction')\n",
    "plt.legend()\n",
    "plt.show()"
   ]
  },
  {
   "cell_type": "code",
   "execution_count": 87,
   "metadata": {},
   "outputs": [
    {
     "name": "stdout",
     "output_type": "stream",
     "text": [
      "y predict [[1816.0851]\n",
      " [1816.8773]\n",
      " [1815.1096]\n",
      " ...\n",
      " [1995.1389]\n",
      " [1995.3265]\n",
      " [1998.6145]]\n",
      "\n",
      "y actual [[1817.885]\n",
      " [1816.945]\n",
      " [1814.608]\n",
      " ...\n",
      " [1997.657]\n",
      " [2000.21 ]\n",
      " [2001.848]]\n"
     ]
    }
   ],
   "source": [
    "y_hat_inverse = scaler_y.inverse_transform(y_hat)\n",
    "print(\"y predict\",y_hat_inverse)\n",
    "\n",
    "print()\n",
    "\n",
    "y_test_inverse = scaler_y.inverse_transform(y_test)\n",
    "print(\"y actual\",y_test_inverse)"
   ]
  },
  {
   "cell_type": "code",
   "execution_count": 27,
   "metadata": {},
   "outputs": [
    {
     "data": {
      "image/png": "[encoded data removed]",
      "text/plain": [
       "<Figure size 1600x800 with 1 Axes>"
      ]
     },
     "metadata": {},
     "output_type": "display_data"
    }
   ],
   "source": [
    "plt.figure(figsize=(16,8))\n",
    "plt.plot(y_test_inverse, color = 'blue', label = 'Test')\n",
    "plt.plot(y_hat_inverse, color = 'red', label = 'Prediction')\n",
    "plt.legend()\n",
    "plt.show()"
   ]
  },
  {
   "cell_type": "code",
   "execution_count": 28,
   "metadata": {},
   "outputs": [
    {
     "name": "stdout",
     "output_type": "stream",
     "text": [
      "pred_diff -1.807254616432097\n",
      "pred_diff_pos 2.4381929052533295\n",
      "pred_diff_neg -3.202310394349011\n",
      "v_zero []\n",
      "pred_diff_abs 3.0133225573512976\n"
     ]
    }
   ],
   "source": [
    "#อันนี้ถ้าได้ค่าเป็นบวก ก็แค่บอกเป็นความในว่า ใน data ที่ใช้ test นี้ ส่วนไหญ่แล้วมี Tredn ราคาหลักไปทางนั้งมากกว่า เช่น ถ้าเป็น positve แปลว่าส่วนมาก ราคาขึ้น negative ก็แปลว่าส่วนมากราคาลง\n",
    "diff = []\n",
    "for i in range(0,len(y_hat_inverse)):\n",
    "    val = float(y_hat_inverse[i] - y_test_inverse[i])\n",
    "    diff.append(val)\n",
    "pred_diff = sum(diff)/len(diff)\n",
    "print(f\"pred_diff {pred_diff}\")\n",
    "\n",
    "\n",
    "\n",
    "#อาจจะเป็น predict long or short ก็ได้ regardless of neg or pos, see below\n",
    "# Predict < ClosePrice(from predict) > actual ---> Short ---> P - a = Positive Value\n",
    "# Predict < ClosePrice(from predict) < actual ---> Short ---> P - a = Negative Value\n",
    "# Predict > ClosePrice(from predict) > actual ---> Long ---> P - a = Positive Value\n",
    "# Predict > ClosePrice(from predict) < actual ---> Long ---> P - a = Negative Value\n",
    "# ด้วยเหตุผลนี้ ใช้ เป็น abs น่าจะ make sense มากกว่าในการทำ simulation\n",
    "diff_pos = []\n",
    "diff_neg = []\n",
    "v_zero = []\n",
    "for i in range(0,len(y_hat_inverse)):\n",
    "    val = float(y_hat_inverse[i] - y_test_inverse[i])\n",
    "    if val > 0:\n",
    "        diff_pos.append(val)\n",
    "    elif val < 0:\n",
    "        diff_neg.append(val)\n",
    "    elif val ==0:\n",
    "        v_zero.append(val)\n",
    "    else:\n",
    "        raise ValueError(\"All conditions were not met\")\n",
    "pred_diff_pos = sum(diff_pos)/len(diff_pos)\n",
    "pred_diff_neg = sum(diff_neg)/len(diff_neg)\n",
    "print(f\"pred_diff_pos {pred_diff_pos}\")\n",
    "print(f\"pred_diff_neg {pred_diff_neg}\")\n",
    "print(f\"v_zero {v_zero}\")\n",
    "\n",
    "#ใช้อันนี้น่าจะ make sense สุดเพราะ เราไม่สามารถรู้ได้ว่ามันจะ เป็น Negative Diff หรือว่า Positive Diff, regardless what's the type of trading order is.\n",
    "diff = []\n",
    "for i in range(0,len(y_hat_inverse)):\n",
    "    val = abs(float(y_hat_inverse[i] - y_test_inverse[i]))\n",
    "    diff.append(val)\n",
    "pred_diff_abs = sum(diff)/len(diff)\n",
    "print(f\"pred_diff_abs {pred_diff_abs}\")"
   ]
  },
  {
   "cell_type": "code",
   "execution_count": 29,
   "metadata": {},
   "outputs": [
    {
     "name": "stdout",
     "output_type": "stream",
     "text": [
      "62/62 [==============================] - 0s 4ms/step - loss: 8.6581e-05\n",
      "Test loss: 8.658090519020334e-05\n",
      "62/62 [==============================] - 0s 4ms/step\n",
      "TEST SET\n",
      "Mean squared error (MAE)(loss): 0.006654803432070992\n",
      "Mean squared error (MSE)(loss): 8.65809026622941e-05\n",
      "Root mean squared error (RMSE): 0.009304885956436764\n",
      "R-squared (R2): 0.9961136256258518\n",
      "\n",
      "246/246 [==============================] - 1s 4ms/step - loss: 6.5170e-05\n",
      "Training loss: 6.516982830362394e-05\n",
      "246/246 [==============================] - 1s 4ms/step\n",
      "TRAINING SET\n",
      "Mean squared error (MAE)(loss): 0.005608849467491139\n",
      "Mean squared error (MSE): 6.516985314484856e-05\n",
      "Root mean squared error (RMSE): 0.008072784720581155\n",
      "R-squared (R2): 0.9979657292501952\n"
     ]
    }
   ],
   "source": [
    "# Evaluate the model on the test data\n",
    "loss = model.evaluate(X_test, y_test)\n",
    "\n",
    "# Print the mean squared error loss\n",
    "print('Test loss:', loss)\n",
    "\n",
    "# Generate predictions on the test data\n",
    "y_pred = model.predict(X_test)\n",
    "\n",
    "# Compute the mean squared error (MSE) and root mean squared error (RMSE)\n",
    "mse = mean_squared_error(y_test, y_pred)\n",
    "rmse = np.sqrt(mse)\n",
    "mae = mean_absolute_error(y_test, y_pred)\n",
    "\n",
    "# Compute the coefficient of determination (R-squared)\n",
    "from sklearn.metrics import r2_score\n",
    "r2 = r2_score(y_test, y_pred)\n",
    "\n",
    "# Print the performance metrics\n",
    "print(\"TEST SET\")\n",
    "print('Mean squared error (MAE)(loss):', mae)\n",
    "print('Mean squared error (MSE)(loss):', mse)\n",
    "print('Root mean squared error (RMSE):', rmse)\n",
    "print('R-squared (R2):', r2)\n",
    "print()\n",
    "\n",
    "loss = model.evaluate(X_train, y_train)\n",
    "print('Training loss:', loss)\n",
    "\n",
    "y_pred = model.predict(X_train)\n",
    "mae = mean_absolute_error(y_train, y_pred)\n",
    "mse = mean_squared_error(y_train, y_pred)\n",
    "rmse = np.sqrt(mse)\n",
    "\n",
    "r2 = r2_score(y_train, y_pred)\n",
    "print(\"TRAINING SET\")\n",
    "print('Mean squared error (MAE)(loss):', mae)\n",
    "print('Mean squared error (MSE):', mse)\n",
    "print('Root mean squared error (RMSE):', rmse)\n",
    "print('R-squared (R2):', r2) # one is good 0 is bad, the value range from 0 to 1"
   ]
  },
  {
   "attachments": {},
   "cell_type": "markdown",
   "metadata": {},
   "source": [
    "#### Simulation"
   ]
  },
  {
   "cell_type": "code",
   "execution_count": 175,
   "metadata": {},
   "outputs": [],
   "source": [
    "#Function to get prediction_raw (Didn't adjust with diff yet)\n",
    "def get_pred(X_test_data,row):\n",
    "    # Get a single input row\n",
    "    input_row = X_test_data[row, :, :]  \n",
    "    # print(f\"shape {input_row.shape}\")\n",
    "\n",
    "    # Reshape the input row\n",
    "    input_row = np.reshape(input_row, (1, input_row.shape[0], input_row.shape[1]))  \n",
    "    # print(f\"shape for prediction {input_row.shape}\")\n",
    "\n",
    "    # Make a prediction using the reshaped input row\n",
    "    prediction_raw = model.predict(input_row)  \n",
    "    prediction_raw = float(scaler_y.inverse_transform(prediction_raw)) \n",
    "    return prediction_raw\n",
    "\n",
    "\n",
    "def get_act(y_test_data,row):\n",
    "    actual_y = float(scaler_y.inverse_transform(y_test_data[row,:].reshape(-1,1)))\n",
    "    return actual_y\n",
    "\n",
    "def get_close(three_d_features_data_set,row):\n",
    "    features = scaler_x.inverse_transform(three_d_features_data_set[row,-1,:].reshape(1, -1))\n",
    "    close = float(features[0,3]) # close_price is at location 3 in dataframe\n",
    "    return close\n"
   ]
  },
  {
   "cell_type": "code",
   "execution_count": 176,
   "metadata": {},
   "outputs": [
    {
     "name": "stdout",
     "output_type": "stream",
     "text": [
      "1/1 [==============================] - 0s 16ms/step\n",
      "prediction raw 1816.0850830078125\n",
      "actual_y 1817.8850000000002\n",
      "close 1816.981\n"
     ]
    }
   ],
   "source": [
    "prediction_raw = get_pred(X_test,0)\n",
    "actual_y = get_act(y_test,0)\n",
    "close = get_close(X_test,0)\n",
    "print(f\"prediction raw {prediction_raw}\")\n",
    "print(f\"actual_y {actual_y}\")\n",
    "print(f\"close {close}\")"
   ]
  },
  {
   "cell_type": "code",
   "execution_count": 177,
   "metadata": {},
   "outputs": [
    {
     "name": "stdout",
     "output_type": "stream",
     "text": [
      "1/1 [==============================] - 0s 15ms/step\n",
      "Do nothing\n",
      "close 1816.981\n",
      "prediction_raw 1816.0850830078125\n",
      "prediction 1814.2778283913804\n",
      "target_price_s 1613.881\n"
     ]
    }
   ],
   "source": [
    "#เนื่องจากพอสร้าง ออเด้อแล้วใช้ sl tp เท่ากัน ยังไงก็เสียมากกว่าเนื่องจาก spread\n",
    "# if win >>> gain x\n",
    "# if lost >>> loss x + spread\n",
    "\n",
    "diff = pred_diff_abs\n",
    "tp_sl_range = 3.1\n",
    "spread = 200\n",
    "# for loop\n",
    "\n",
    "close = get_close(X_test,0)\n",
    "prediction_raw = get_pred(X_test,0)\n",
    "actual_y = get_act(y_test,0)\n",
    "\n",
    "if prediction_raw == 0:\n",
    "    print(\"Do nothing\")\n",
    "\n",
    "# LONG\n",
    "elif prediction_raw > close:\n",
    "    # must be after prediction >= close\n",
    "    target_price_l = close + tp_sl_range + spread # เพิ่ม spread เพิ่มเมื่อ win จะได้เอา spread คืน\n",
    "    # must be after prediction >= close, because we don't know whether to plus or minus prediction with pred_diff\n",
    "    prediction = prediction_raw - pred_diff\n",
    "    if prediction <= target_price_l:\n",
    "        print(\"Do nothing\")\n",
    "    elif prediction > target_price_l and actual_y > target_price_l:\n",
    "        print(\"trade L win\")\n",
    "    elif prediction > target_price_l and actual_y < target_price_l:\n",
    "        print(\"Trade L loss\")\n",
    "    else:\n",
    "        print(\"error\")\n",
    "        print(prediction)\n",
    "\n",
    "\n",
    "# SHORT\n",
    "elif prediction_raw < close:\n",
    "        # must be after prediction >= close\n",
    "    target_price_s = close - tp_sl_range - spread # เพิ่ม spread เพิ่มเมื่อ win จะได้เอา spread คืน\n",
    "    # must be after prediction >= close, because we don't know whether to plus or minus prediction with pred_diff\n",
    "    prediction = prediction_raw + pred_diff\n",
    "    if prediction >= target_price_s:\n",
    "        print(\"Do nothing\")\n",
    "    elif prediction < target_price_s and actual_y < target_price_s:\n",
    "        print(\"trade L win\")\n",
    "    elif prediction < target_price_s and actual_y > target_price_s:\n",
    "        print(\"Trade L loss\")\n",
    "    else:\n",
    "        print(\"error\")\n",
    "        print(prediction)\n",
    "\n",
    "else:\n",
    "    raise ValueError(\"Error condition not met\")\n",
    "\n",
    "print(f\"close {close}\")\n",
    "print(f\"prediction_raw {prediction_raw}\")\n",
    "print(f\"prediction {prediction}\")\n",
    "try:\n",
    "    print(f\"target_price_l {target_price_l}\")\n",
    "except:\n",
    "    pass\n",
    "try:\n",
    "    print(f\"target_price_s {target_price_s}\")\n",
    "except:\n",
    "    pass"
   ]
  },
  {
   "cell_type": "code",
   "execution_count": null,
   "metadata": {},
   "outputs": [],
   "source": [
    "def predict_simu(model, X_test, data_simu_y, initial_capital):\n",
    "    capital = initial_capital\n",
    "    win_count = 0\n",
    "    lost_count = 0\n",
    "    no_order_count = 0\n",
    "    record_result = []\n",
    "    record_capital = []\n",
    "    record_date = []\n",
    "    consecutive_lost = 0\n",
    "    consecutive_lost_max = 0\n",
    "    diff = pred_diff_abs\n",
    "    tp = 3.1\n",
    "    sl = 3.1\n",
    "    spread = 200\n",
    "    for i in range(0, len(X_test)):\n",
    "        prediction = float(model.predict(X_test[0, :, :].reshape(1, 30, 8)))\n",
    "\n",
    "        if prediction == 1 and data_simu_y[i] == 1:\n",
    "            outcome = 3\n",
    "            capital += outcome\n",
    "            win_count += 1\n",
    "            order_record = 'win-------- prediction = {0}, actual = {1}'.format(prediction,data_simu_y[i])\n",
    "            result = 'win'\n",
    "        elif prediction == 1 and data_simu_y[i] == 0:\n",
    "            outcome = -3.3\n",
    "            capital += outcome\n",
    "            lost_count += 1\n",
    "            order_record = 'lost------- prediction = {0}, actual = {1}'.format(prediction,data_simu_y[i])\n",
    "            result = 'lost'\n",
    "        elif prediction == 0:\n",
    "            no_order_count +=1\n",
    "            order_record = 'no order--- prediction = {0}, actual = {1}'.format(prediction, data_simu_y[i])\n",
    "            capital = capital\n",
    "            result = 'no order'\n",
    "        else:\n",
    "            raise ValueError('no condition met')\n",
    "        record_date.append(X_test.iloc[i].name)\n",
    "        record_result.append(order_record)\n",
    "        record_capital.append(capital)\n",
    "\n",
    "        #Calculate Consecutive Lost\n",
    "        if result == 'lost':\n",
    "            consecutive_lost += -3.3\n",
    "            if consecutive_lost <= consecutive_lost_max:\n",
    "                consecutive_lost_max = consecutive_lost\n",
    "        if result == 'win':\n",
    "            if consecutive_lost <= consecutive_lost_max:\n",
    "                consecutive_lost_max = consecutive_lost\n",
    "            consecutive_lost = 0\n",
    "\n",
    "    total_return = ((capital - initial_capital) / initial_capital)*100\n",
    "    sim_df = pd.DataFrame({'record_date':record_date,\n",
    "                           'record_result':record_result,\n",
    "                           'record_capital': record_capital})\n",
    "    sim_df.set_index('record_date', inplace=True)\n",
    "\n",
    "    return win_count, lost_count, no_order_count, capital, total_return, sim_df, consecutive_lost_max\n"
   ]
  }
 ],
 "metadata": {
  "kernelspec": {
   "display_name": "vnn",
   "language": "python",
   "name": "python3"
  },
  "language_info": {
   "codemirror_mode": {
    "name": "ipython",
    "version": 3
   },
   "file_extension": ".py",
   "mimetype": "text/x-python",
   "name": "python",
   "nbconvert_exporter": "python",
   "pygments_lexer": "ipython3",
   "version": "3.9.13"
  },
  "orig_nbformat": 4
 },
 "nbformat": 4,
 "nbformat_minor": 2
}
